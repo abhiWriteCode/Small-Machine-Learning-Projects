{
  "cells": [
    {
      "metadata": {
        "_uuid": "8f2839f25d086af736a60e9eeb907d3b93b6e0e5",
        "_cell_guid": "b1076dfc-b9ad-4769-8c92-a6c4dae69d19",
        "trusted": true
      },
      "cell_type": "code",
      "source": "# This Python 3 environment comes with many helpful analytics libraries installed\n# It is defined by the kaggle/python docker image: https://github.com/kaggle/docker-python\n# For example, here's several helpful packages to load in \n\nimport numpy as np # linear algebra\nimport pandas as pd # data processing, CSV file I/O (e.g. pd.read_csv)\nimport matplotlib.pyplot as plt\nfrom sklearn.model_selection import train_test_split\n\nimport tensorflow as tf\nimport keras\nfrom keras import Sequential\nfrom keras.layers import Dense, Flatten, Conv2D, MaxPooling2D, Dropout\nfrom keras.utils.np_utils import to_categorical\nfrom keras.preprocessing.image import ImageDataGenerator\nfrom keras.layers.normalization import BatchNormalization\nfrom keras.callbacks import ReduceLROnPlateau\n\npd.options.display.max_rows = 10\n%matplotlib inline\n\n# Input data files are available in the \"../input/\" directory.\n# For example, running this (by clicking run or pressing Shift+Enter) will list the files in the input directory\n\nimport os\nprint(os.listdir(\"../input\"))\n\n# Any results you write to the current directory are saved as output.",
      "execution_count": 1,
      "outputs": [
        {
          "output_type": "stream",
          "text": "Using TensorFlow backend.\n",
          "name": "stderr"
        },
        {
          "output_type": "stream",
          "text": "['train.csv', 'sample_submission.csv', 'test.csv']\n",
          "name": "stdout"
        }
      ]
    },
    {
      "metadata": {
        "_cell_guid": "79c7e3d0-c299-4dcb-8224-4455121ee9b0",
        "_uuid": "d629ff2d2480ee46fbb7e2d37f6b5fab8052498a",
        "trusted": true
      },
      "cell_type": "code",
      "source": "train = pd.read_csv('../input/train.csv')\nprint('train.shape', train.shape)\n\ntest = pd.read_csv('../input/test.csv')\nprint('test.shape',test.shape)",
      "execution_count": 2,
      "outputs": [
        {
          "output_type": "stream",
          "text": "train.shape (42000, 785)\ntest.shape (28000, 784)\n",
          "name": "stdout"
        }
      ]
    },
    {
      "metadata": {
        "trusted": true,
        "_uuid": "06ea297a9077df663a01bce78d7bf0f5d598570d"
      },
      "cell_type": "code",
      "source": "y_train = train.iloc[:, 0]\nX_train = train.iloc[:, 1:]\n\nX_test = test\n\ndel train, test",
      "execution_count": 3,
      "outputs": []
    },
    {
      "metadata": {
        "trusted": true,
        "_uuid": "0462ee1473d6a669cb42fa18e2837d1da9946888"
      },
      "cell_type": "code",
      "source": "X_train.shape, y_train.shape, X_test.shape",
      "execution_count": 4,
      "outputs": [
        {
          "output_type": "execute_result",
          "execution_count": 4,
          "data": {
            "text/plain": "((42000, 784), (42000,), (28000, 784))"
          },
          "metadata": {}
        }
      ]
    },
    {
      "metadata": {
        "trusted": true,
        "_uuid": "79d26a57e3e0f9db200e0e8b788bf55043ee99cb"
      },
      "cell_type": "code",
      "source": "X_train = (X_train/255.0).values.reshape(42000, 28, 28, 1)\nX_test = (X_test/255.0).values.reshape(28000, 28, 28, 1)\ny_train = to_categorical(y_train, num_classes=10)\n\nX_train, X_val, y_train, y_val = train_test_split(X_train, y_train, test_size = 0.1)\n\nX_train.shape, y_train.shape, X_val.shape, y_val.shape, X_test.shape",
      "execution_count": 5,
      "outputs": [
        {
          "output_type": "execute_result",
          "execution_count": 5,
          "data": {
            "text/plain": "((37800, 28, 28, 1),\n (37800, 10),\n (4200, 28, 28, 1),\n (4200, 10),\n (28000, 28, 28, 1))"
          },
          "metadata": {}
        }
      ]
    },
    {
      "metadata": {
        "trusted": true,
        "_uuid": "f826e64cb32821b09c7bc106be3b3551b28e0ac2"
      },
      "cell_type": "code",
      "source": "plt.imshow(X_train[11].reshape(28, 28))\nplt.title(np.argmax(y_train[11]))\nplt.axis('off')",
      "execution_count": 6,
      "outputs": [
        {
          "output_type": "execute_result",
          "execution_count": 6,
          "data": {
            "text/plain": "(-0.5, 27.5, 27.5, -0.5)"
          },
          "metadata": {}
        },
        {
          "output_type": "display_data",
          "data": {
            "text/plain": "<Figure size 432x288 with 1 Axes>",
            "image/png": "[encoded data removed]"
          },
          "metadata": {
            "needs_background": "light"
          }
        }
      ]
    },
    {
      "metadata": {
        "trusted": true,
        "_uuid": "aaf76323c069b980baa09a4b9d78409bcf0f0595"
      },
      "cell_type": "code",
      "source": "plt.imshow(X_val[0].reshape(28, 28))\nplt.title(np.argmax(y_val[0]))\nplt.axis('off')",
      "execution_count": 7,
      "outputs": [
        {
          "output_type": "execute_result",
          "execution_count": 7,
          "data": {
            "text/plain": "(-0.5, 27.5, 27.5, -0.5)"
          },
          "metadata": {}
        },
        {
          "output_type": "display_data",
          "data": {
            "text/plain": "<Figure size 432x288 with 1 Axes>",
            "image/png": "[encoded data removed]"
          },
          "metadata": {
            "needs_background": "light"
          }
        }
      ]
    },
    {
      "metadata": {
        "trusted": true,
        "_uuid": "d7e72418862b15998015dfef742831f9efccdd0b"
      },
      "cell_type": "code",
      "source": "model = Sequential()\n\nmodel.add(Conv2D(filters=32, kernel_size=(3, 3), input_shape=(28, 28, 1), activation = 'relu'))\nmodel.add(Conv2D(filters=32, kernel_size=(3, 3), input_shape=(28, 28, 1), activation = 'relu'))\nmodel.add(MaxPooling2D(pool_size=(2, 2)))\nmodel.add(Dropout(0.2))\n\nmodel.add(Conv2D(filters=64, kernel_size=(3, 3), activation = 'relu', padding = 'Same'))\nmodel.add(Conv2D(filters=64, kernel_size=(3, 3), activation = 'relu', padding = 'Same'))\nmodel.add(MaxPooling2D(pool_size=(2, 2)))\nmodel.add(Dropout(0.2))\n\nmodel.add(Conv2D(filters=128, kernel_size=(3, 3), activation = 'relu'))\n\nmodel.add(Flatten())\nmodel.add(Dense(units = 128, activation = 'relu'))\nmodel.add(BatchNormalization())\nmodel.add(Dropout(0.2))\nmodel.add(Dense(units = 10, activation = 'softmax'))\n\nmodel.compile(loss='categorical_crossentropy', optimizer='rmsprop', metrics=['accuracy'])\nmodel.summary()",
      "execution_count": 9,
      "outputs": [
        {
          "output_type": "stream",
          "text": "_________________________________________________________________\nLayer (type)                 Output Shape              Param #   \n=================================================================\nconv2d_4 (Conv2D)            (None, 26, 26, 32)        320       \n_________________________________________________________________\nconv2d_5 (Conv2D)            (None, 24, 24, 32)        9248      \n_________________________________________________________________\nmax_pooling2d_3 (MaxPooling2 (None, 12, 12, 32)        0         \n_________________________________________________________________\ndropout_4 (Dropout)          (None, 12, 12, 32)        0         \n_________________________________________________________________\nconv2d_6 (Conv2D)            (None, 12, 12, 64)        18496     \n_________________________________________________________________\nconv2d_7 (Conv2D)            (None, 12, 12, 64)        36928     \n_________________________________________________________________\nmax_pooling2d_4 (MaxPooling2 (None, 6, 6, 64)          0         \n_________________________________________________________________\ndropout_5 (Dropout)          (None, 6, 6, 64)          0         \n_________________________________________________________________\nconv2d_8 (Conv2D)            (None, 4, 4, 128)         73856     \n_________________________________________________________________\nflatten_2 (Flatten)          (None, 2048)              0         \n_________________________________________________________________\ndense_3 (Dense)              (None, 128)               262272    \n_________________________________________________________________\nbatch_normalization_1 (Batch (None, 128)               512       \n_________________________________________________________________\ndropout_6 (Dropout)          (None, 128)               0         \n_________________________________________________________________\ndense_4 (Dense)              (None, 10)                1290      \n=================================================================\nTotal params: 402,922\nTrainable params: 402,666\nNon-trainable params: 256\n_________________________________________________________________\n",
          "name": "stdout"
        }
      ]
    },
    {
      "metadata": {
        "trusted": true,
        "_uuid": "712280a9e70d8465c5e9a5e83b86a3d667cc1c85"
      },
      "cell_type": "code",
      "source": "data_augmentation = ImageDataGenerator(\n        featurewise_center=False,\n        samplewise_center=False,\n        featurewise_std_normalization=False,\n        samplewise_std_normalization=False,\n        zca_whitening=False,\n        rotation_range=10,\n        zoom_range = 0.1, \n        width_shift_range=0.1,\n        height_shift_range=0.1,\n        horizontal_flip=False,\n        vertical_flip=False\n)\n\ndata_augmentation.fit(X_train)",
      "execution_count": 10,
      "outputs": []
    },
    {
      "metadata": {
        "trusted": true,
        "_uuid": "e66c116aa06c680cbda7813b565f9e69d367a547"
      },
      "cell_type": "code",
      "source": "learning_rate_reduction = ReduceLROnPlateau(monitor='val_acc', \n                                            patience=3, \n                                            verbose=1, \n                                            factor=0.5, \n                                            min_lr=0.00001)",
      "execution_count": 11,
      "outputs": []
    },
    {
      "metadata": {
        "trusted": true,
        "_uuid": "7aa72a30f1f7b7b703caea7f978927ca1856909b"
      },
      "cell_type": "code",
      "source": "X_train.shape, y_train.shape, X_val.shape, y_val.shape, X_test.shape",
      "execution_count": 12,
      "outputs": [
        {
          "output_type": "execute_result",
          "execution_count": 12,
          "data": {
            "text/plain": "((37800, 28, 28, 1),\n (37800, 10),\n (4200, 28, 28, 1),\n (4200, 10),\n (28000, 28, 28, 1))"
          },
          "metadata": {}
        }
      ]
    },
    {
      "metadata": {
        "trusted": true,
        "_uuid": "bbe9094b3514c9f1d52ce515cff686fc2adadaa6"
      },
      "cell_type": "code",
      "source": "batch_size = 128\nepochs = 2",
      "execution_count": 14,
      "outputs": []
    },
    {
      "metadata": {
        "trusted": true,
        "_uuid": "cee3d0da4eaf924d95edb0d020f80c0750ca4897"
      },
      "cell_type": "code",
      "source": "hist = model.fit_generator(data_augmentation.flow(X_train, y_train, batch_size=batch_size),\n                          epochs = epochs, validation_data = (X_val, y_val),\n                          steps_per_epoch=X_train.shape[0], callbacks=[learning_rate_reduction])",
      "execution_count": 15,
      "outputs": [
        {
          "output_type": "stream",
          "text": "Epoch 1/2\n37800/37800 [==============================] - 1773s 47ms/step - loss: 0.0186 - acc: 0.9942 - val_loss: 0.0120 - val_acc: 0.9971\nEpoch 2/2\n37800/37800 [==============================] - 1812s 48ms/step - loss: 0.0073 - acc: 0.9978 - val_loss: 0.0165 - val_acc: 0.9967\n",
          "name": "stdout"
        }
      ]
    },
    {
      "metadata": {
        "trusted": true,
        "_uuid": "5cf7be37cb4d17aa2f44a2a495987977f680db86"
      },
      "cell_type": "code",
      "source": "hist = pd.DataFrame(hist.history)",
      "execution_count": 16,
      "outputs": []
    },
    {
      "metadata": {
        "trusted": true,
        "_uuid": "4b52ece82dafdd90b469890d078913cf49f82759"
      },
      "cell_type": "code",
      "source": "plt.figure(figsize=(10,2))\n\nplt.subplot(1, 2, 1)\nplt.plot(hist['acc'])\nplt.plot(hist['val_acc'])\nplt.title('acc')\nplt.legend()\n\nplt.subplot(1, 2, 2)\nplt.plot(hist['loss'])\nplt.plot(hist['val_loss'])\nplt.title('loss')\nplt.legend()\n\nplt.show()",
      "execution_count": 17,
      "outputs": [
        {
          "output_type": "display_data",
          "data": {
            "text/plain": "<Figure size 720x144 with 2 Axes>",
            "image/png": "[encoded data removed]"
          },
          "metadata": {
            "needs_background": "light"
          }
        }
      ]
    },
    {
      "metadata": {
        "trusted": true,
        "_uuid": "729d84efb8adc4747b91fda81c881d818b8d8e25"
      },
      "cell_type": "code",
      "source": "predict_y = model.predict(X_test)",
      "execution_count": 23,
      "outputs": []
    },
    {
      "metadata": {
        "trusted": true,
        "_uuid": "0d7f771cd138a80cee42c444ea100e2f4e8610b5"
      },
      "cell_type": "code",
      "source": "predict_y = np.apply_along_axis(np.argmax, 1, predict_y)\npredict_y[:10]",
      "execution_count": 24,
      "outputs": [
        {
          "output_type": "execute_result",
          "execution_count": 24,
          "data": {
            "text/plain": "array([2, 0, 9, 0, 3, 7, 0, 3, 0, 3])"
          },
          "metadata": {}
        }
      ]
    },
    {
      "metadata": {
        "trusted": true,
        "_uuid": "c0d742f63c2d1202f511000a4a46f325e9e68134"
      },
      "cell_type": "code",
      "source": "plt.figure(figsize=(20, 6))\n\nn = 10\nfor i in range(n):\n  plt.subplot(1, n, i+1)\n  plt.imshow(X_test[i].reshape(28, 28))\n  plt.title(np.argmax(predict_y[i]))\n  plt.axis('off')",
      "execution_count": 20,
      "outputs": [
        {
          "output_type": "display_data",
          "data": {
            "text/plain": "<Figure size 1440x432 with 10 Axes>",
            "image/png": "[encoded data removed]"
          },
          "metadata": {
            "needs_background": "light"
          }
        }
      ]
    },
    {
      "metadata": {
        "trusted": true,
        "_uuid": "2290fb8a7abef84a0f995dc96162d9e76e1a799f"
      },
      "cell_type": "code",
      "source": "",
      "execution_count": null,
      "outputs": []
    },
    {
      "metadata": {
        "trusted": true,
        "_uuid": "9d5598ba66df365c423e47a32c7ea9ae52159588"
      },
      "cell_type": "code",
      "source": "output = pd.DataFrame()\noutput['ImageId'] = np.arange(1, 28000+1)\noutput['Label'] = predict_y\n\noutput.head()",
      "execution_count": 25,
      "outputs": [
        {
          "output_type": "execute_result",
          "execution_count": 25,
          "data": {
            "text/plain": "   ImageId  Label\n0        1      2\n1        2      0\n2        3      9\n3        4      0\n4        5      3",
            "text/html": "<div>\n<style scoped>\n    .dataframe tbody tr th:only-of-type {\n        vertical-align: middle;\n    }\n\n    .dataframe tbody tr th {\n        vertical-align: top;\n    }\n\n    .dataframe thead th {\n        text-align: right;\n    }\n</style>\n<table border=\"1\" class=\"dataframe\">\n  <thead>\n    <tr style=\"text-align: right;\">\n      <th></th>\n      <th>ImageId</th>\n      <th>Label</th>\n    </tr>\n  </thead>\n  <tbody>\n    <tr>\n      <th>0</th>\n      <td>1</td>\n      <td>2</td>\n    </tr>\n    <tr>\n      <th>1</th>\n      <td>2</td>\n      <td>0</td>\n    </tr>\n    <tr>\n      <th>2</th>\n      <td>3</td>\n      <td>9</td>\n    </tr>\n    <tr>\n      <th>3</th>\n      <td>4</td>\n      <td>0</td>\n    </tr>\n    <tr>\n      <th>4</th>\n      <td>5</td>\n      <td>3</td>\n    </tr>\n  </tbody>\n</table>\n</div>"
          },
          "metadata": {}
        }
      ]
    },
    {
      "metadata": {
        "trusted": true,
        "_uuid": "1b85908ff84e81417e4f6723f4354f62aa820673"
      },
      "cell_type": "code",
      "source": "output.to_csv('submission.csv', index=False)",
      "execution_count": null,
      "outputs": []
    },
    {
      "metadata": {
        "trusted": true,
        "_uuid": "8ce19ffe2fd700b15db76bc48bb20192710298ff"
      },
      "cell_type": "code",
      "source": "",
      "execution_count": null,
      "outputs": []
    }
  ],
  "metadata": {
    "kernelspec": {
      "display_name": "Python 3",
      "language": "python",
      "name": "python3"
    },
    "language_info": {
      "name": "python",
      "version": "3.6.6",
      "mimetype": "text/x-python",
      "codemirror_mode": {
        "name": "ipython",
        "version": 3
      },
      "pygments_lexer": "ipython3",
      "nbconvert_exporter": "python",
      "file_extension": ".py"
    }
  },
  "nbformat": 4,
  "nbformat_minor": 1
}