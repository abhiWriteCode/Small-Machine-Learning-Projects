{
  "nbformat": 4,
  "nbformat_minor": 0,
  "metadata": {
    "colab": {
      "name": "Classify Iris flowers.ipynb",
      "version": "0.3.2",
      "provenance": [],
      "include_colab_link": true
    },
    "kernelspec": {
      "name": "python3",
      "display_name": "Python 3"
    },
    "accelerator": "GPU"
  },
  "cells": [
    {
      "cell_type": "markdown",
      "metadata": {
        "id": "view-in-github",
        "colab_type": "text"
      },
      "source": [
        "[View in Colaboratory](https://colab.research.google.com/github/abhiWriteCode/Small-Machine-Learning-Projects/blob/master/Classify_Iris_flowers.ipynb)"
      ]
    },
    {
      "metadata": {
        "id": "iPJwGSpOMcoT",
        "colab_type": "code",
        "colab": {
          "base_uri": "https://localhost:8080/",
          "height": 34
        },
        "outputId": "b4b563d1-94e3-43c5-b572-6c7afad92b14"
      },
      "cell_type": "code",
      "source": [
        "import numpy as np\n",
        "import pandas as pd\n",
        "import matplotlib.pyplot as plt\n",
        "%matplotlib inline\n",
        "\n",
        "import sklearn\n",
        "from sklearn.datasets import load_iris\n",
        "\n",
        "import tensorflow as tf\n",
        "import keras\n",
        "\n",
        "tf.logging.set_verbosity(tf.logging.ERROR)\n",
        "pd.options.display.max_rows = 10\n",
        "pd.options.display.float_format = '{:.1f}'.format"
      ],
      "execution_count": 2,
      "outputs": [
        {
          "output_type": "stream",
          "text": [
            "Using TensorFlow backend.\n"
          ],
          "name": "stderr"
        }
      ]
    },
    {
      "metadata": {
        "id": "XIT7sEkNMiQd",
        "colab_type": "code",
        "colab": {
          "base_uri": "https://localhost:8080/",
          "height": 34
        },
        "outputId": "45726b8c-7cc4-43fe-bbc2-2dc0444f2d80"
      },
      "cell_type": "code",
      "source": [
        "dataset = load_iris()\n",
        "print(dir(dataset))"
      ],
      "execution_count": 3,
      "outputs": [
        {
          "output_type": "stream",
          "text": [
            "['DESCR', 'data', 'feature_names', 'target', 'target_names']\n"
          ],
          "name": "stdout"
        }
      ]
    },
    {
      "metadata": {
        "id": "t_zrtbTpNw5_",
        "colab_type": "code",
        "colab": {
          "base_uri": "https://localhost:8080/",
          "height": 34
        },
        "outputId": "ffcb815a-cf29-4e93-d955-7824e841e206"
      },
      "cell_type": "code",
      "source": [
        "X = dataset.data\n",
        "y = dataset.target\n",
        "\n",
        "X.shape, y.shape"
      ],
      "execution_count": 4,
      "outputs": [
        {
          "output_type": "execute_result",
          "data": {
            "text/plain": [
              "((150, 4), (150,))"
            ]
          },
          "metadata": {
            "tags": []
          },
          "execution_count": 4
        }
      ]
    },
    {
      "metadata": {
        "id": "CW8Q0Rc8PVhY",
        "colab_type": "code",
        "colab": {
          "base_uri": "https://localhost:8080/",
          "height": 195
        },
        "outputId": "a907d0e7-dbba-46c4-e54b-6fb9e2cf736c"
      },
      "cell_type": "code",
      "source": [
        "suffled_index = np.argsort(np.random.randn(len(y)))\n",
        "\n",
        "X = X[suffled_index]\n",
        "y = y[suffled_index]\n",
        "\n",
        "X = pd.DataFrame(X, columns=dataset.feature_names)\n",
        "y = pd.DataFrame(y, columns=['target'])\n",
        "\n",
        "y.head()"
      ],
      "execution_count": 5,
      "outputs": [
        {
          "output_type": "execute_result",
          "data": {
            "text/html": [
              "<div>\n",
              "<style scoped>\n",
              "    .dataframe tbody tr th:only-of-type {\n",
              "        vertical-align: middle;\n",
              "    }\n",
              "\n",
              "    .dataframe tbody tr th {\n",
              "        vertical-align: top;\n",
              "    }\n",
              "\n",
              "    .dataframe thead th {\n",
              "        text-align: right;\n",
              "    }\n",
              "</style>\n",
              "<table border=\"1\" class=\"dataframe\">\n",
              "  <thead>\n",
              "    <tr style=\"text-align: right;\">\n",
              "      <th></th>\n",
              "      <th>target</th>\n",
              "    </tr>\n",
              "  </thead>\n",
              "  <tbody>\n",
              "    <tr>\n",
              "      <th>0</th>\n",
              "      <td>0</td>\n",
              "    </tr>\n",
              "    <tr>\n",
              "      <th>1</th>\n",
              "      <td>2</td>\n",
              "    </tr>\n",
              "    <tr>\n",
              "      <th>2</th>\n",
              "      <td>1</td>\n",
              "    </tr>\n",
              "    <tr>\n",
              "      <th>3</th>\n",
              "      <td>2</td>\n",
              "    </tr>\n",
              "    <tr>\n",
              "      <th>4</th>\n",
              "      <td>0</td>\n",
              "    </tr>\n",
              "  </tbody>\n",
              "</table>\n",
              "</div>"
            ],
            "text/plain": [
              "   target\n",
              "0       0\n",
              "1       2\n",
              "2       1\n",
              "3       2\n",
              "4       0"
            ]
          },
          "metadata": {
            "tags": []
          },
          "execution_count": 5
        }
      ]
    },
    {
      "metadata": {
        "id": "woUrDMQPRJkK",
        "colab_type": "code",
        "colab": {
          "base_uri": "https://localhost:8080/",
          "height": 195
        },
        "outputId": "2e18db1b-030b-4d1d-a44a-05d9a96bd8ec"
      },
      "cell_type": "code",
      "source": [
        "X.head()"
      ],
      "execution_count": 6,
      "outputs": [
        {
          "output_type": "execute_result",
          "data": {
            "text/html": [
              "<div>\n",
              "<style scoped>\n",
              "    .dataframe tbody tr th:only-of-type {\n",
              "        vertical-align: middle;\n",
              "    }\n",
              "\n",
              "    .dataframe tbody tr th {\n",
              "        vertical-align: top;\n",
              "    }\n",
              "\n",
              "    .dataframe thead th {\n",
              "        text-align: right;\n",
              "    }\n",
              "</style>\n",
              "<table border=\"1\" class=\"dataframe\">\n",
              "  <thead>\n",
              "    <tr style=\"text-align: right;\">\n",
              "      <th></th>\n",
              "      <th>sepal length (cm)</th>\n",
              "      <th>sepal width (cm)</th>\n",
              "      <th>petal length (cm)</th>\n",
              "      <th>petal width (cm)</th>\n",
              "    </tr>\n",
              "  </thead>\n",
              "  <tbody>\n",
              "    <tr>\n",
              "      <th>0</th>\n",
              "      <td>4.6</td>\n",
              "      <td>3.2</td>\n",
              "      <td>1.4</td>\n",
              "      <td>0.2</td>\n",
              "    </tr>\n",
              "    <tr>\n",
              "      <th>1</th>\n",
              "      <td>6.7</td>\n",
              "      <td>3.3</td>\n",
              "      <td>5.7</td>\n",
              "      <td>2.5</td>\n",
              "    </tr>\n",
              "    <tr>\n",
              "      <th>2</th>\n",
              "      <td>6.0</td>\n",
              "      <td>2.9</td>\n",
              "      <td>4.5</td>\n",
              "      <td>1.5</td>\n",
              "    </tr>\n",
              "    <tr>\n",
              "      <th>3</th>\n",
              "      <td>5.8</td>\n",
              "      <td>2.8</td>\n",
              "      <td>5.1</td>\n",
              "      <td>2.4</td>\n",
              "    </tr>\n",
              "    <tr>\n",
              "      <th>4</th>\n",
              "      <td>4.9</td>\n",
              "      <td>3.1</td>\n",
              "      <td>1.5</td>\n",
              "      <td>0.1</td>\n",
              "    </tr>\n",
              "  </tbody>\n",
              "</table>\n",
              "</div>"
            ],
            "text/plain": [
              "   sepal length (cm)  sepal width (cm)  petal length (cm)  petal width (cm)\n",
              "0                4.6               3.2                1.4               0.2\n",
              "1                6.7               3.3                5.7               2.5\n",
              "2                6.0               2.9                4.5               1.5\n",
              "3                5.8               2.8                5.1               2.4\n",
              "4                4.9               3.1                1.5               0.1"
            ]
          },
          "metadata": {
            "tags": []
          },
          "execution_count": 6
        }
      ]
    },
    {
      "metadata": {
        "id": "zvlrYCljRKty",
        "colab_type": "code",
        "colab": {
          "base_uri": "https://localhost:8080/",
          "height": 284
        },
        "outputId": "bcffc92d-89f8-4019-c7a8-6003d0b56ceb"
      },
      "cell_type": "code",
      "source": [
        "X.describe()"
      ],
      "execution_count": 7,
      "outputs": [
        {
          "output_type": "execute_result",
          "data": {
            "text/html": [
              "<div>\n",
              "<style scoped>\n",
              "    .dataframe tbody tr th:only-of-type {\n",
              "        vertical-align: middle;\n",
              "    }\n",
              "\n",
              "    .dataframe tbody tr th {\n",
              "        vertical-align: top;\n",
              "    }\n",
              "\n",
              "    .dataframe thead th {\n",
              "        text-align: right;\n",
              "    }\n",
              "</style>\n",
              "<table border=\"1\" class=\"dataframe\">\n",
              "  <thead>\n",
              "    <tr style=\"text-align: right;\">\n",
              "      <th></th>\n",
              "      <th>sepal length (cm)</th>\n",
              "      <th>sepal width (cm)</th>\n",
              "      <th>petal length (cm)</th>\n",
              "      <th>petal width (cm)</th>\n",
              "    </tr>\n",
              "  </thead>\n",
              "  <tbody>\n",
              "    <tr>\n",
              "      <th>count</th>\n",
              "      <td>150.0</td>\n",
              "      <td>150.0</td>\n",
              "      <td>150.0</td>\n",
              "      <td>150.0</td>\n",
              "    </tr>\n",
              "    <tr>\n",
              "      <th>mean</th>\n",
              "      <td>5.8</td>\n",
              "      <td>3.1</td>\n",
              "      <td>3.8</td>\n",
              "      <td>1.2</td>\n",
              "    </tr>\n",
              "    <tr>\n",
              "      <th>std</th>\n",
              "      <td>0.8</td>\n",
              "      <td>0.4</td>\n",
              "      <td>1.8</td>\n",
              "      <td>0.8</td>\n",
              "    </tr>\n",
              "    <tr>\n",
              "      <th>min</th>\n",
              "      <td>4.3</td>\n",
              "      <td>2.0</td>\n",
              "      <td>1.0</td>\n",
              "      <td>0.1</td>\n",
              "    </tr>\n",
              "    <tr>\n",
              "      <th>25%</th>\n",
              "      <td>5.1</td>\n",
              "      <td>2.8</td>\n",
              "      <td>1.6</td>\n",
              "      <td>0.3</td>\n",
              "    </tr>\n",
              "    <tr>\n",
              "      <th>50%</th>\n",
              "      <td>5.8</td>\n",
              "      <td>3.0</td>\n",
              "      <td>4.3</td>\n",
              "      <td>1.3</td>\n",
              "    </tr>\n",
              "    <tr>\n",
              "      <th>75%</th>\n",
              "      <td>6.4</td>\n",
              "      <td>3.3</td>\n",
              "      <td>5.1</td>\n",
              "      <td>1.8</td>\n",
              "    </tr>\n",
              "    <tr>\n",
              "      <th>max</th>\n",
              "      <td>7.9</td>\n",
              "      <td>4.4</td>\n",
              "      <td>6.9</td>\n",
              "      <td>2.5</td>\n",
              "    </tr>\n",
              "  </tbody>\n",
              "</table>\n",
              "</div>"
            ],
            "text/plain": [
              "       sepal length (cm)  sepal width (cm)  petal length (cm)  \\\n",
              "count              150.0             150.0              150.0   \n",
              "mean                 5.8               3.1                3.8   \n",
              "std                  0.8               0.4                1.8   \n",
              "min                  4.3               2.0                1.0   \n",
              "25%                  5.1               2.8                1.6   \n",
              "50%                  5.8               3.0                4.3   \n",
              "75%                  6.4               3.3                5.1   \n",
              "max                  7.9               4.4                6.9   \n",
              "\n",
              "       petal width (cm)  \n",
              "count             150.0  \n",
              "mean                1.2  \n",
              "std                 0.8  \n",
              "min                 0.1  \n",
              "25%                 0.3  \n",
              "50%                 1.3  \n",
              "75%                 1.8  \n",
              "max                 2.5  "
            ]
          },
          "metadata": {
            "tags": []
          },
          "execution_count": 7
        }
      ]
    },
    {
      "metadata": {
        "id": "Q-ofBPOKS7f4",
        "colab_type": "code",
        "colab": {
          "base_uri": "https://localhost:8080/",
          "height": 166
        },
        "outputId": "7b8845de-88e4-404d-95cf-5f00152775dd"
      },
      "cell_type": "code",
      "source": [
        "X.corr()"
      ],
      "execution_count": 8,
      "outputs": [
        {
          "output_type": "execute_result",
          "data": {
            "text/html": [
              "<div>\n",
              "<style scoped>\n",
              "    .dataframe tbody tr th:only-of-type {\n",
              "        vertical-align: middle;\n",
              "    }\n",
              "\n",
              "    .dataframe tbody tr th {\n",
              "        vertical-align: top;\n",
              "    }\n",
              "\n",
              "    .dataframe thead th {\n",
              "        text-align: right;\n",
              "    }\n",
              "</style>\n",
              "<table border=\"1\" class=\"dataframe\">\n",
              "  <thead>\n",
              "    <tr style=\"text-align: right;\">\n",
              "      <th></th>\n",
              "      <th>sepal length (cm)</th>\n",
              "      <th>sepal width (cm)</th>\n",
              "      <th>petal length (cm)</th>\n",
              "      <th>petal width (cm)</th>\n",
              "    </tr>\n",
              "  </thead>\n",
              "  <tbody>\n",
              "    <tr>\n",
              "      <th>sepal length (cm)</th>\n",
              "      <td>1.0</td>\n",
              "      <td>-0.1</td>\n",
              "      <td>0.9</td>\n",
              "      <td>0.8</td>\n",
              "    </tr>\n",
              "    <tr>\n",
              "      <th>sepal width (cm)</th>\n",
              "      <td>-0.1</td>\n",
              "      <td>1.0</td>\n",
              "      <td>-0.4</td>\n",
              "      <td>-0.4</td>\n",
              "    </tr>\n",
              "    <tr>\n",
              "      <th>petal length (cm)</th>\n",
              "      <td>0.9</td>\n",
              "      <td>-0.4</td>\n",
              "      <td>1.0</td>\n",
              "      <td>1.0</td>\n",
              "    </tr>\n",
              "    <tr>\n",
              "      <th>petal width (cm)</th>\n",
              "      <td>0.8</td>\n",
              "      <td>-0.4</td>\n",
              "      <td>1.0</td>\n",
              "      <td>1.0</td>\n",
              "    </tr>\n",
              "  </tbody>\n",
              "</table>\n",
              "</div>"
            ],
            "text/plain": [
              "                   sepal length (cm)  sepal width (cm)  petal length (cm)  \\\n",
              "sepal length (cm)                1.0              -0.1                0.9   \n",
              "sepal width (cm)                -0.1               1.0               -0.4   \n",
              "petal length (cm)                0.9              -0.4                1.0   \n",
              "petal width (cm)                 0.8              -0.4                1.0   \n",
              "\n",
              "                   petal width (cm)  \n",
              "sepal length (cm)               0.8  \n",
              "sepal width (cm)               -0.4  \n",
              "petal length (cm)               1.0  \n",
              "petal width (cm)                1.0  "
            ]
          },
          "metadata": {
            "tags": []
          },
          "execution_count": 8
        }
      ]
    },
    {
      "metadata": {
        "id": "oDpSSsE5Ts0J",
        "colab_type": "text"
      },
      "cell_type": "markdown",
      "source": [
        "`petal length` and `petal width` are highly correlated\n",
        "\n",
        "`sepal length` and 'petal length' are also highly correlated"
      ]
    },
    {
      "metadata": {
        "id": "9Xm4VRxpS-ZJ",
        "colab_type": "code",
        "colab": {}
      },
      "cell_type": "code",
      "source": [
        "from sklearn.model_selection import train_test_split\n",
        "\n",
        "X_tr, X_te, y_tr, y_te = train_test_split(X, y, test_size=0.2)"
      ],
      "execution_count": 0,
      "outputs": []
    },
    {
      "metadata": {
        "id": "kc4x0eiCcf-b",
        "colab_type": "text"
      },
      "cell_type": "markdown",
      "source": [
        "## Model1"
      ]
    },
    {
      "metadata": {
        "id": "oc0rhPOsVPiU",
        "colab_type": "code",
        "colab": {
          "base_uri": "https://localhost:8080/",
          "height": 121
        },
        "outputId": "a6648796-fc24-45de-d705-d290f6d3b9a6"
      },
      "cell_type": "code",
      "source": [
        "from sklearn.neighbors import KNeighborsClassifier\n",
        "\n",
        "# n_neighbors=3 for predict 3 classes\n",
        "# p=2 for euclidean_distance\n",
        "classifier1 = KNeighborsClassifier(n_neighbors=3, p=2)\n",
        "classifier1.fit(X_tr, y_tr)"
      ],
      "execution_count": 10,
      "outputs": [
        {
          "output_type": "stream",
          "text": [
            "/usr/local/lib/python3.6/dist-packages/ipykernel_launcher.py:6: DataConversionWarning: A column-vector y was passed when a 1d array was expected. Please change the shape of y to (n_samples, ), for example using ravel().\n",
            "  \n"
          ],
          "name": "stderr"
        },
        {
          "output_type": "execute_result",
          "data": {
            "text/plain": [
              "KNeighborsClassifier(algorithm='auto', leaf_size=30, metric='minkowski',\n",
              "           metric_params=None, n_jobs=1, n_neighbors=3, p=2,\n",
              "           weights='uniform')"
            ]
          },
          "metadata": {
            "tags": []
          },
          "execution_count": 10
        }
      ]
    },
    {
      "metadata": {
        "id": "aMHCyy7qXXmk",
        "colab_type": "code",
        "colab": {}
      },
      "cell_type": "code",
      "source": [
        "# Predicting the Test set results\n",
        "y_pred1 = classifier1.predict(X_te)"
      ],
      "execution_count": 0,
      "outputs": []
    },
    {
      "metadata": {
        "id": "OHl_1cgQX4u3",
        "colab_type": "code",
        "colab": {
          "base_uri": "https://localhost:8080/",
          "height": 402
        },
        "outputId": "0f088b38-9112-4cec-e95f-f9746e430485"
      },
      "cell_type": "code",
      "source": [
        "ouput_table1 = pd.DataFrame({'acually':y_te.values.reshape(len(y_te)), 'predicted':y_pred1})\n",
        "ouput_table1['is right'] = ouput_table1['acually'] == ouput_table1['predicted']\n",
        "\n",
        "ouput_table1"
      ],
      "execution_count": 12,
      "outputs": [
        {
          "output_type": "execute_result",
          "data": {
            "text/html": [
              "<div>\n",
              "<style scoped>\n",
              "    .dataframe tbody tr th:only-of-type {\n",
              "        vertical-align: middle;\n",
              "    }\n",
              "\n",
              "    .dataframe tbody tr th {\n",
              "        vertical-align: top;\n",
              "    }\n",
              "\n",
              "    .dataframe thead th {\n",
              "        text-align: right;\n",
              "    }\n",
              "</style>\n",
              "<table border=\"1\" class=\"dataframe\">\n",
              "  <thead>\n",
              "    <tr style=\"text-align: right;\">\n",
              "      <th></th>\n",
              "      <th>acually</th>\n",
              "      <th>predicted</th>\n",
              "      <th>is right</th>\n",
              "    </tr>\n",
              "  </thead>\n",
              "  <tbody>\n",
              "    <tr>\n",
              "      <th>0</th>\n",
              "      <td>2</td>\n",
              "      <td>2</td>\n",
              "      <td>True</td>\n",
              "    </tr>\n",
              "    <tr>\n",
              "      <th>1</th>\n",
              "      <td>1</td>\n",
              "      <td>1</td>\n",
              "      <td>True</td>\n",
              "    </tr>\n",
              "    <tr>\n",
              "      <th>2</th>\n",
              "      <td>2</td>\n",
              "      <td>2</td>\n",
              "      <td>True</td>\n",
              "    </tr>\n",
              "    <tr>\n",
              "      <th>3</th>\n",
              "      <td>2</td>\n",
              "      <td>1</td>\n",
              "      <td>False</td>\n",
              "    </tr>\n",
              "    <tr>\n",
              "      <th>4</th>\n",
              "      <td>2</td>\n",
              "      <td>2</td>\n",
              "      <td>True</td>\n",
              "    </tr>\n",
              "    <tr>\n",
              "      <th>...</th>\n",
              "      <td>...</td>\n",
              "      <td>...</td>\n",
              "      <td>...</td>\n",
              "    </tr>\n",
              "    <tr>\n",
              "      <th>25</th>\n",
              "      <td>2</td>\n",
              "      <td>2</td>\n",
              "      <td>True</td>\n",
              "    </tr>\n",
              "    <tr>\n",
              "      <th>26</th>\n",
              "      <td>1</td>\n",
              "      <td>1</td>\n",
              "      <td>True</td>\n",
              "    </tr>\n",
              "    <tr>\n",
              "      <th>27</th>\n",
              "      <td>1</td>\n",
              "      <td>1</td>\n",
              "      <td>True</td>\n",
              "    </tr>\n",
              "    <tr>\n",
              "      <th>28</th>\n",
              "      <td>0</td>\n",
              "      <td>0</td>\n",
              "      <td>True</td>\n",
              "    </tr>\n",
              "    <tr>\n",
              "      <th>29</th>\n",
              "      <td>0</td>\n",
              "      <td>0</td>\n",
              "      <td>True</td>\n",
              "    </tr>\n",
              "  </tbody>\n",
              "</table>\n",
              "<p>30 rows × 3 columns</p>\n",
              "</div>"
            ],
            "text/plain": [
              "    acually  predicted  is right\n",
              "0         2          2      True\n",
              "1         1          1      True\n",
              "2         2          2      True\n",
              "3         2          1     False\n",
              "4         2          2      True\n",
              "..      ...        ...       ...\n",
              "25        2          2      True\n",
              "26        1          1      True\n",
              "27        1          1      True\n",
              "28        0          0      True\n",
              "29        0          0      True\n",
              "\n",
              "[30 rows x 3 columns]"
            ]
          },
          "metadata": {
            "tags": []
          },
          "execution_count": 12
        }
      ]
    },
    {
      "metadata": {
        "id": "Q9NXOpF7YTzZ",
        "colab_type": "code",
        "colab": {
          "base_uri": "https://localhost:8080/",
          "height": 34
        },
        "outputId": "8ffe6a3a-165a-4fb8-d700-b3d00c04b33a"
      },
      "cell_type": "code",
      "source": [
        "# correct predictons\n",
        "correct_predictons = len(ouput_table1[ouput_table1['is right'] == True])\n",
        "print(correct_predictons)"
      ],
      "execution_count": 13,
      "outputs": [
        {
          "output_type": "stream",
          "text": [
            "27\n"
          ],
          "name": "stdout"
        }
      ]
    },
    {
      "metadata": {
        "id": "r0D-tK4PY2L3",
        "colab_type": "code",
        "colab": {
          "base_uri": "https://localhost:8080/",
          "height": 34
        },
        "outputId": "33df2522-5724-44fd-d01d-a4811c6d12a3"
      },
      "cell_type": "code",
      "source": [
        "accuracy1 = correct_predictons/len(y_te)\n",
        "accuracy1"
      ],
      "execution_count": 14,
      "outputs": [
        {
          "output_type": "execute_result",
          "data": {
            "text/plain": [
              "0.9"
            ]
          },
          "metadata": {
            "tags": []
          },
          "execution_count": 14
        }
      ]
    },
    {
      "metadata": {
        "id": "8OTFx6K2ckOS",
        "colab_type": "text"
      },
      "cell_type": "markdown",
      "source": [
        "## Model2"
      ]
    },
    {
      "metadata": {
        "id": "6X2lhCKzc_Uc",
        "colab_type": "text"
      },
      "cell_type": "markdown",
      "source": [
        "We concluded that,\n",
        "\n",
        "`petal length` and `petal width` are highly correlated\n",
        "\n",
        "`sepal length` and 'petal length' are also highly correlated"
      ]
    },
    {
      "metadata": {
        "id": "E0K_JMmzdWUC",
        "colab_type": "code",
        "colab": {
          "base_uri": "https://localhost:8080/",
          "height": 402
        },
        "outputId": "7b922a2a-5ba8-4d04-907f-ff645ecedf8b"
      },
      "cell_type": "code",
      "source": [
        "X"
      ],
      "execution_count": 15,
      "outputs": [
        {
          "output_type": "execute_result",
          "data": {
            "text/html": [
              "<div>\n",
              "<style scoped>\n",
              "    .dataframe tbody tr th:only-of-type {\n",
              "        vertical-align: middle;\n",
              "    }\n",
              "\n",
              "    .dataframe tbody tr th {\n",
              "        vertical-align: top;\n",
              "    }\n",
              "\n",
              "    .dataframe thead th {\n",
              "        text-align: right;\n",
              "    }\n",
              "</style>\n",
              "<table border=\"1\" class=\"dataframe\">\n",
              "  <thead>\n",
              "    <tr style=\"text-align: right;\">\n",
              "      <th></th>\n",
              "      <th>sepal length (cm)</th>\n",
              "      <th>sepal width (cm)</th>\n",
              "      <th>petal length (cm)</th>\n",
              "      <th>petal width (cm)</th>\n",
              "    </tr>\n",
              "  </thead>\n",
              "  <tbody>\n",
              "    <tr>\n",
              "      <th>0</th>\n",
              "      <td>4.6</td>\n",
              "      <td>3.2</td>\n",
              "      <td>1.4</td>\n",
              "      <td>0.2</td>\n",
              "    </tr>\n",
              "    <tr>\n",
              "      <th>1</th>\n",
              "      <td>6.7</td>\n",
              "      <td>3.3</td>\n",
              "      <td>5.7</td>\n",
              "      <td>2.5</td>\n",
              "    </tr>\n",
              "    <tr>\n",
              "      <th>2</th>\n",
              "      <td>6.0</td>\n",
              "      <td>2.9</td>\n",
              "      <td>4.5</td>\n",
              "      <td>1.5</td>\n",
              "    </tr>\n",
              "    <tr>\n",
              "      <th>3</th>\n",
              "      <td>5.8</td>\n",
              "      <td>2.8</td>\n",
              "      <td>5.1</td>\n",
              "      <td>2.4</td>\n",
              "    </tr>\n",
              "    <tr>\n",
              "      <th>4</th>\n",
              "      <td>4.9</td>\n",
              "      <td>3.1</td>\n",
              "      <td>1.5</td>\n",
              "      <td>0.1</td>\n",
              "    </tr>\n",
              "    <tr>\n",
              "      <th>...</th>\n",
              "      <td>...</td>\n",
              "      <td>...</td>\n",
              "      <td>...</td>\n",
              "      <td>...</td>\n",
              "    </tr>\n",
              "    <tr>\n",
              "      <th>145</th>\n",
              "      <td>6.0</td>\n",
              "      <td>2.2</td>\n",
              "      <td>4.0</td>\n",
              "      <td>1.0</td>\n",
              "    </tr>\n",
              "    <tr>\n",
              "      <th>146</th>\n",
              "      <td>4.9</td>\n",
              "      <td>3.0</td>\n",
              "      <td>1.4</td>\n",
              "      <td>0.2</td>\n",
              "    </tr>\n",
              "    <tr>\n",
              "      <th>147</th>\n",
              "      <td>5.4</td>\n",
              "      <td>3.9</td>\n",
              "      <td>1.3</td>\n",
              "      <td>0.4</td>\n",
              "    </tr>\n",
              "    <tr>\n",
              "      <th>148</th>\n",
              "      <td>6.5</td>\n",
              "      <td>3.0</td>\n",
              "      <td>5.5</td>\n",
              "      <td>1.8</td>\n",
              "    </tr>\n",
              "    <tr>\n",
              "      <th>149</th>\n",
              "      <td>5.4</td>\n",
              "      <td>3.9</td>\n",
              "      <td>1.7</td>\n",
              "      <td>0.4</td>\n",
              "    </tr>\n",
              "  </tbody>\n",
              "</table>\n",
              "<p>150 rows × 4 columns</p>\n",
              "</div>"
            ],
            "text/plain": [
              "     sepal length (cm)  sepal width (cm)  petal length (cm)  petal width (cm)\n",
              "0                  4.6               3.2                1.4               0.2\n",
              "1                  6.7               3.3                5.7               2.5\n",
              "2                  6.0               2.9                4.5               1.5\n",
              "3                  5.8               2.8                5.1               2.4\n",
              "4                  4.9               3.1                1.5               0.1\n",
              "..                 ...               ...                ...               ...\n",
              "145                6.0               2.2                4.0               1.0\n",
              "146                4.9               3.0                1.4               0.2\n",
              "147                5.4               3.9                1.3               0.4\n",
              "148                6.5               3.0                5.5               1.8\n",
              "149                5.4               3.9                1.7               0.4\n",
              "\n",
              "[150 rows x 4 columns]"
            ]
          },
          "metadata": {
            "tags": []
          },
          "execution_count": 15
        }
      ]
    },
    {
      "metadata": {
        "id": "Vu6L1pEsd7Nd",
        "colab_type": "code",
        "colab": {
          "base_uri": "https://localhost:8080/",
          "height": 390
        },
        "outputId": "73cf8f29-c834-464d-8339-4f6b50b36b6a"
      },
      "cell_type": "code",
      "source": [
        "X[['sepal length (cm)', 'petal length (cm)', 'petal width (cm)']].plot(figsize=(15,6))"
      ],
      "execution_count": 16,
      "outputs": [
        {
          "output_type": "execute_result",
          "data": {
            "text/plain": [
              "<matplotlib.axes._subplots.AxesSubplot at 0x7f83e18d1710>"
            ]
          },
          "metadata": {
            "tags": []
          },
          "execution_count": 16
        },
        {
          "output_type": "display_data",
          "data": {
            "image/png": "[encoded data removed]",
            "text/plain": [
              "<matplotlib.figure.Figure at 0x7f83e18d1fd0>"
            ]
          },
          "metadata": {
            "tags": []
          }
        }
      ]
    },
    {
      "metadata": {
        "id": "mFOSs-tgebeF",
        "colab_type": "code",
        "colab": {
          "base_uri": "https://localhost:8080/",
          "height": 402
        },
        "outputId": "9dc0ed54-72eb-4d4f-f207-abac108a8a9a"
      },
      "cell_type": "code",
      "source": [
        "reduced_X = pd.DataFrame(X[['sepal length (cm)', 'petal length (cm)', 'petal width (cm)']].mean(axis=1).values, columns=['reduced column'])\n",
        "reduced_X['sepal width (cm)'] = X['sepal width (cm)'].values\n",
        "\n",
        "reduced_X"
      ],
      "execution_count": 17,
      "outputs": [
        {
          "output_type": "execute_result",
          "data": {
            "text/html": [
              "<div>\n",
              "<style scoped>\n",
              "    .dataframe tbody tr th:only-of-type {\n",
              "        vertical-align: middle;\n",
              "    }\n",
              "\n",
              "    .dataframe tbody tr th {\n",
              "        vertical-align: top;\n",
              "    }\n",
              "\n",
              "    .dataframe thead th {\n",
              "        text-align: right;\n",
              "    }\n",
              "</style>\n",
              "<table border=\"1\" class=\"dataframe\">\n",
              "  <thead>\n",
              "    <tr style=\"text-align: right;\">\n",
              "      <th></th>\n",
              "      <th>reduced column</th>\n",
              "      <th>sepal width (cm)</th>\n",
              "    </tr>\n",
              "  </thead>\n",
              "  <tbody>\n",
              "    <tr>\n",
              "      <th>0</th>\n",
              "      <td>2.1</td>\n",
              "      <td>3.2</td>\n",
              "    </tr>\n",
              "    <tr>\n",
              "      <th>1</th>\n",
              "      <td>5.0</td>\n",
              "      <td>3.3</td>\n",
              "    </tr>\n",
              "    <tr>\n",
              "      <th>2</th>\n",
              "      <td>4.0</td>\n",
              "      <td>2.9</td>\n",
              "    </tr>\n",
              "    <tr>\n",
              "      <th>3</th>\n",
              "      <td>4.4</td>\n",
              "      <td>2.8</td>\n",
              "    </tr>\n",
              "    <tr>\n",
              "      <th>4</th>\n",
              "      <td>2.2</td>\n",
              "      <td>3.1</td>\n",
              "    </tr>\n",
              "    <tr>\n",
              "      <th>...</th>\n",
              "      <td>...</td>\n",
              "      <td>...</td>\n",
              "    </tr>\n",
              "    <tr>\n",
              "      <th>145</th>\n",
              "      <td>3.7</td>\n",
              "      <td>2.2</td>\n",
              "    </tr>\n",
              "    <tr>\n",
              "      <th>146</th>\n",
              "      <td>2.2</td>\n",
              "      <td>3.0</td>\n",
              "    </tr>\n",
              "    <tr>\n",
              "      <th>147</th>\n",
              "      <td>2.4</td>\n",
              "      <td>3.9</td>\n",
              "    </tr>\n",
              "    <tr>\n",
              "      <th>148</th>\n",
              "      <td>4.6</td>\n",
              "      <td>3.0</td>\n",
              "    </tr>\n",
              "    <tr>\n",
              "      <th>149</th>\n",
              "      <td>2.5</td>\n",
              "      <td>3.9</td>\n",
              "    </tr>\n",
              "  </tbody>\n",
              "</table>\n",
              "<p>150 rows × 2 columns</p>\n",
              "</div>"
            ],
            "text/plain": [
              "     reduced column  sepal width (cm)\n",
              "0               2.1               3.2\n",
              "1               5.0               3.3\n",
              "2               4.0               2.9\n",
              "3               4.4               2.8\n",
              "4               2.2               3.1\n",
              "..              ...               ...\n",
              "145             3.7               2.2\n",
              "146             2.2               3.0\n",
              "147             2.4               3.9\n",
              "148             4.6               3.0\n",
              "149             2.5               3.9\n",
              "\n",
              "[150 rows x 2 columns]"
            ]
          },
          "metadata": {
            "tags": []
          },
          "execution_count": 17
        }
      ]
    },
    {
      "metadata": {
        "id": "elKaXl1QhTi5",
        "colab_type": "code",
        "colab": {}
      },
      "cell_type": "code",
      "source": [
        "from sklearn.model_selection import train_test_split\n",
        "\n",
        "X_tr, X_te, y_tr, y_te = train_test_split(reduced_X, y, test_size=0.2)"
      ],
      "execution_count": 0,
      "outputs": []
    },
    {
      "metadata": {
        "id": "d8-3majPhVCg",
        "colab_type": "code",
        "colab": {
          "base_uri": "https://localhost:8080/",
          "height": 121
        },
        "outputId": "20316bee-045b-44db-88d8-6bca35a2fd76"
      },
      "cell_type": "code",
      "source": [
        "from sklearn.neighbors import KNeighborsClassifier\n",
        "\n",
        "# n_neighbors=3 for predict 3 classes\n",
        "# p=2 for euclidean_distance\n",
        "classifier2 = KNeighborsClassifier(n_neighbors=3, p=2)\n",
        "classifier2.fit(X_tr, y_tr)"
      ],
      "execution_count": 19,
      "outputs": [
        {
          "output_type": "stream",
          "text": [
            "/usr/local/lib/python3.6/dist-packages/ipykernel_launcher.py:6: DataConversionWarning: A column-vector y was passed when a 1d array was expected. Please change the shape of y to (n_samples, ), for example using ravel().\n",
            "  \n"
          ],
          "name": "stderr"
        },
        {
          "output_type": "execute_result",
          "data": {
            "text/plain": [
              "KNeighborsClassifier(algorithm='auto', leaf_size=30, metric='minkowski',\n",
              "           metric_params=None, n_jobs=1, n_neighbors=3, p=2,\n",
              "           weights='uniform')"
            ]
          },
          "metadata": {
            "tags": []
          },
          "execution_count": 19
        }
      ]
    },
    {
      "metadata": {
        "id": "5KHZP5JSjsTx",
        "colab_type": "code",
        "colab": {
          "base_uri": "https://localhost:8080/",
          "height": 34
        },
        "outputId": "300cde0c-28d3-4bfa-d974-9d78994caee4"
      },
      "cell_type": "code",
      "source": [
        "# Predicting the Test set results\n",
        "y_pred2 = classifier2.predict(X_te)\n",
        "\n",
        "ouput_table1 = pd.DataFrame({'acually':y_te.values.reshape(len(y_te)), 'predicted':y_pred2})\n",
        "ouput_table1['is right'] = ouput_table1['acually'] == ouput_table1['predicted']\n",
        "\n",
        "# correct predictons\n",
        "correct_predictons = len(ouput_table1[ouput_table1['is right'] == True])\n",
        "print(correct_predictons)"
      ],
      "execution_count": 20,
      "outputs": [
        {
          "output_type": "stream",
          "text": [
            "25\n"
          ],
          "name": "stdout"
        }
      ]
    },
    {
      "metadata": {
        "id": "N-tynjUNkFks",
        "colab_type": "code",
        "colab": {
          "base_uri": "https://localhost:8080/",
          "height": 34
        },
        "outputId": "fa28ab19-ba23-4879-bf36-8ff3cc48ccf1"
      },
      "cell_type": "code",
      "source": [
        "accuracy2 = correct_predictons/len(y_te)\n",
        "accuracy2"
      ],
      "execution_count": 21,
      "outputs": [
        {
          "output_type": "execute_result",
          "data": {
            "text/plain": [
              "0.8333333333333334"
            ]
          },
          "metadata": {
            "tags": []
          },
          "execution_count": 21
        }
      ]
    },
    {
      "metadata": {
        "id": "QpuM-_BRk6UR",
        "colab_type": "text"
      },
      "cell_type": "markdown",
      "source": [
        "## Model3"
      ]
    },
    {
      "metadata": {
        "id": "3qgN-b99k8zd",
        "colab_type": "code",
        "colab": {
          "base_uri": "https://localhost:8080/",
          "height": 402
        },
        "outputId": "41a73b85-84b1-4484-c555-c9ddc16cca92"
      },
      "cell_type": "code",
      "source": [
        "# combing two columns\n",
        "\n",
        "reduced_X = pd.DataFrame(X[['sepal length (cm)', 'petal length (cm)', 'petal width (cm)']].mean(axis=1).values, columns=['reduced column'])\n",
        "reduced_X['sepal width (cm)'] = X['sepal width (cm)'].values\n",
        "reduced_X['sepal length (cm)'] = X['sepal length (cm)'].values\n",
        "\n",
        "reduced_X"
      ],
      "execution_count": 22,
      "outputs": [
        {
          "output_type": "execute_result",
          "data": {
            "text/html": [
              "<div>\n",
              "<style scoped>\n",
              "    .dataframe tbody tr th:only-of-type {\n",
              "        vertical-align: middle;\n",
              "    }\n",
              "\n",
              "    .dataframe tbody tr th {\n",
              "        vertical-align: top;\n",
              "    }\n",
              "\n",
              "    .dataframe thead th {\n",
              "        text-align: right;\n",
              "    }\n",
              "</style>\n",
              "<table border=\"1\" class=\"dataframe\">\n",
              "  <thead>\n",
              "    <tr style=\"text-align: right;\">\n",
              "      <th></th>\n",
              "      <th>reduced column</th>\n",
              "      <th>sepal width (cm)</th>\n",
              "      <th>sepal length (cm)</th>\n",
              "    </tr>\n",
              "  </thead>\n",
              "  <tbody>\n",
              "    <tr>\n",
              "      <th>0</th>\n",
              "      <td>2.1</td>\n",
              "      <td>3.2</td>\n",
              "      <td>4.6</td>\n",
              "    </tr>\n",
              "    <tr>\n",
              "      <th>1</th>\n",
              "      <td>5.0</td>\n",
              "      <td>3.3</td>\n",
              "      <td>6.7</td>\n",
              "    </tr>\n",
              "    <tr>\n",
              "      <th>2</th>\n",
              "      <td>4.0</td>\n",
              "      <td>2.9</td>\n",
              "      <td>6.0</td>\n",
              "    </tr>\n",
              "    <tr>\n",
              "      <th>3</th>\n",
              "      <td>4.4</td>\n",
              "      <td>2.8</td>\n",
              "      <td>5.8</td>\n",
              "    </tr>\n",
              "    <tr>\n",
              "      <th>4</th>\n",
              "      <td>2.2</td>\n",
              "      <td>3.1</td>\n",
              "      <td>4.9</td>\n",
              "    </tr>\n",
              "    <tr>\n",
              "      <th>...</th>\n",
              "      <td>...</td>\n",
              "      <td>...</td>\n",
              "      <td>...</td>\n",
              "    </tr>\n",
              "    <tr>\n",
              "      <th>145</th>\n",
              "      <td>3.7</td>\n",
              "      <td>2.2</td>\n",
              "      <td>6.0</td>\n",
              "    </tr>\n",
              "    <tr>\n",
              "      <th>146</th>\n",
              "      <td>2.2</td>\n",
              "      <td>3.0</td>\n",
              "      <td>4.9</td>\n",
              "    </tr>\n",
              "    <tr>\n",
              "      <th>147</th>\n",
              "      <td>2.4</td>\n",
              "      <td>3.9</td>\n",
              "      <td>5.4</td>\n",
              "    </tr>\n",
              "    <tr>\n",
              "      <th>148</th>\n",
              "      <td>4.6</td>\n",
              "      <td>3.0</td>\n",
              "      <td>6.5</td>\n",
              "    </tr>\n",
              "    <tr>\n",
              "      <th>149</th>\n",
              "      <td>2.5</td>\n",
              "      <td>3.9</td>\n",
              "      <td>5.4</td>\n",
              "    </tr>\n",
              "  </tbody>\n",
              "</table>\n",
              "<p>150 rows × 3 columns</p>\n",
              "</div>"
            ],
            "text/plain": [
              "     reduced column  sepal width (cm)  sepal length (cm)\n",
              "0               2.1               3.2                4.6\n",
              "1               5.0               3.3                6.7\n",
              "2               4.0               2.9                6.0\n",
              "3               4.4               2.8                5.8\n",
              "4               2.2               3.1                4.9\n",
              "..              ...               ...                ...\n",
              "145             3.7               2.2                6.0\n",
              "146             2.2               3.0                4.9\n",
              "147             2.4               3.9                5.4\n",
              "148             4.6               3.0                6.5\n",
              "149             2.5               3.9                5.4\n",
              "\n",
              "[150 rows x 3 columns]"
            ]
          },
          "metadata": {
            "tags": []
          },
          "execution_count": 22
        }
      ]
    },
    {
      "metadata": {
        "id": "QMPD-C4Oyhvn",
        "colab_type": "code",
        "colab": {}
      },
      "cell_type": "code",
      "source": [
        "# # OneHotEncoding on y\n",
        "# from sklearn.preprocessing import OneHotEncoder\n",
        "\n",
        "# onehotencoder = OneHotEncoder(categorical_features = [0])\n",
        "# y = onehotencoder.fit_transform(y).toarray()\n",
        "# y = pd.DataFrame(y)\n",
        "\n",
        "from keras.utils import to_categorical\n",
        "y_binary = to_categorical(y)"
      ],
      "execution_count": 0,
      "outputs": []
    },
    {
      "metadata": {
        "id": "5bptqIjFv3vR",
        "colab_type": "code",
        "colab": {}
      },
      "cell_type": "code",
      "source": [
        "from sklearn.model_selection import train_test_split\n",
        "\n",
        "X_tr, X_te, y_tr, y_te = train_test_split(reduced_X, y_binary, test_size=0.2)"
      ],
      "execution_count": 0,
      "outputs": []
    },
    {
      "metadata": {
        "id": "gbi2vZXIrvE8",
        "colab_type": "code",
        "colab": {}
      },
      "cell_type": "code",
      "source": [
        "# model1 = keras.models.Sequential([\n",
        "#     keras.layers.Dense(activation = 'selu', input_dim = 3, units = 6),\n",
        "#     keras.layers.Dense(activation = 'tanh', units = 6),\n",
        "#     keras.layers.Dense(activation = 'softmax', units = 3)\n",
        "# ])\n",
        "# train acc = 88-96%\n",
        "# test acc = 85-95%\n",
        "\n",
        "\n",
        "model1 = keras.models.Sequential([\n",
        "    keras.layers.Dense(input_dim = 3, units = 10), # activation=None\n",
        "    keras.layers.Dense(activation = 'tanh', units = 10),\n",
        "    keras.layers.Dense(activation = 'softmax', units = 3)\n",
        "])\n",
        "# train acc = 88-96%\n",
        "# test acc = 88-96%\n",
        "\n",
        "\n",
        "# model1 = keras.models.Sequential([\n",
        "#     keras.layers.Dense(activation = 'relu', input_dim = 3, units = 6),\n",
        "#     keras.layers.Dense(activation = 'selu', units = 6),\n",
        "#     keras.layers.Dense(activation = 'softmax', units = 3)\n",
        "# ])\n",
        "# train acc = 70-76%\n",
        "# test acc = 62-66%\n",
        "\n",
        "\n",
        "# model1 = keras.models.Sequential([\n",
        "#     keras.layers.Dense(activation = 'selu', input_dim = 3, units = 6),\n",
        "#     keras.layers.Dense(activation = 'tanh', units = 6),\n",
        "#     keras.layers.Dense(activation = 'softmax', units = 3)\n",
        "# ])\n",
        "# # train acc = 88-96%\n",
        "# # test acc = 80%"
      ],
      "execution_count": 0,
      "outputs": []
    },
    {
      "metadata": {
        "id": "iGjp4z_ytB4l",
        "colab_type": "code",
        "colab": {}
      },
      "cell_type": "code",
      "source": [
        "model1.compile(loss='categorical_crossentropy', optimizer='adam', metrics=['accuracy'])"
      ],
      "execution_count": 0,
      "outputs": []
    },
    {
      "metadata": {
        "id": "dfclJubkwvtH",
        "colab_type": "code",
        "colab": {
          "base_uri": "https://localhost:8080/",
          "height": 235
        },
        "outputId": "cfd5cc93-b60e-4975-8bbe-678d5a5352ea"
      },
      "cell_type": "code",
      "source": [
        "model1.summary()"
      ],
      "execution_count": 28,
      "outputs": [
        {
          "output_type": "stream",
          "text": [
            "_________________________________________________________________\n",
            "Layer (type)                 Output Shape              Param #   \n",
            "=================================================================\n",
            "dense_1 (Dense)              (None, 10)                40        \n",
            "_________________________________________________________________\n",
            "dense_2 (Dense)              (None, 10)                110       \n",
            "_________________________________________________________________\n",
            "dense_3 (Dense)              (None, 3)                 33        \n",
            "=================================================================\n",
            "Total params: 183\n",
            "Trainable params: 183\n",
            "Non-trainable params: 0\n",
            "_________________________________________________________________\n"
          ],
          "name": "stdout"
        }
      ]
    },
    {
      "metadata": {
        "id": "pYJUnmDnvi_d",
        "colab_type": "code",
        "colab": {
          "base_uri": "https://localhost:8080/",
          "height": 3394
        },
        "outputId": "242f8a51-45ad-470e-a97d-d80eb0ce82ba"
      },
      "cell_type": "code",
      "source": [
        "model1.fit(X_tr, y_tr, epochs=100)"
      ],
      "execution_count": 29,
      "outputs": [
        {
          "output_type": "stream",
          "text": [
            "Epoch 1/100\n",
            "120/120 [==============================] - 1s 7ms/step - loss: 1.4523 - acc: 0.0250\n",
            "Epoch 2/100\n",
            "120/120 [==============================] - 0s 221us/step - loss: 1.4183 - acc: 0.0500\n",
            "Epoch 3/100\n",
            "120/120 [==============================] - 0s 213us/step - loss: 1.3803 - acc: 0.1083\n",
            "Epoch 4/100\n",
            "120/120 [==============================] - 0s 205us/step - loss: 1.3362 - acc: 0.2333\n",
            "Epoch 5/100\n",
            "120/120 [==============================] - 0s 215us/step - loss: 1.2887 - acc: 0.2917\n",
            "Epoch 6/100\n",
            "120/120 [==============================] - 0s 208us/step - loss: 1.2374 - acc: 0.3250\n",
            "Epoch 7/100\n",
            "120/120 [==============================] - 0s 219us/step - loss: 1.1826 - acc: 0.3583\n",
            "Epoch 8/100\n",
            "120/120 [==============================] - 0s 212us/step - loss: 1.1254 - acc: 0.3667\n",
            "Epoch 9/100\n",
            "120/120 [==============================] - 0s 215us/step - loss: 1.0682 - acc: 0.3667\n",
            "Epoch 10/100\n",
            "120/120 [==============================] - 0s 203us/step - loss: 1.0219 - acc: 0.4917\n",
            "Epoch 11/100\n",
            "120/120 [==============================] - 0s 194us/step - loss: 0.9938 - acc: 0.7250\n",
            "Epoch 12/100\n",
            "120/120 [==============================] - 0s 213us/step - loss: 0.9832 - acc: 0.7417\n",
            "Epoch 13/100\n",
            "120/120 [==============================] - 0s 203us/step - loss: 0.9727 - acc: 0.7667\n",
            "Epoch 14/100\n",
            "120/120 [==============================] - 0s 252us/step - loss: 0.9627 - acc: 0.7917\n",
            "Epoch 15/100\n",
            "120/120 [==============================] - 0s 238us/step - loss: 0.9530 - acc: 0.7583\n",
            "Epoch 16/100\n",
            "120/120 [==============================] - 0s 223us/step - loss: 0.9411 - acc: 0.7750\n",
            "Epoch 17/100\n",
            "120/120 [==============================] - 0s 224us/step - loss: 0.9338 - acc: 0.7833\n",
            "Epoch 18/100\n",
            "120/120 [==============================] - 0s 227us/step - loss: 0.9267 - acc: 0.7583\n",
            "Epoch 19/100\n",
            "120/120 [==============================] - 0s 205us/step - loss: 0.9189 - acc: 0.7833\n",
            "Epoch 20/100\n",
            "120/120 [==============================] - 0s 222us/step - loss: 0.9120 - acc: 0.8000\n",
            "Epoch 21/100\n",
            "120/120 [==============================] - 0s 203us/step - loss: 0.9047 - acc: 0.8000\n",
            "Epoch 22/100\n",
            "120/120 [==============================] - 0s 222us/step - loss: 0.8970 - acc: 0.8000\n",
            "Epoch 23/100\n",
            "120/120 [==============================] - 0s 216us/step - loss: 0.8898 - acc: 0.7750\n",
            "Epoch 24/100\n",
            "120/120 [==============================] - 0s 218us/step - loss: 0.8828 - acc: 0.7750\n",
            "Epoch 25/100\n",
            "120/120 [==============================] - 0s 233us/step - loss: 0.8749 - acc: 0.7833\n",
            "Epoch 26/100\n",
            "120/120 [==============================] - 0s 229us/step - loss: 0.8671 - acc: 0.7833\n",
            "Epoch 27/100\n",
            "120/120 [==============================] - 0s 201us/step - loss: 0.8597 - acc: 0.7750\n",
            "Epoch 28/100\n",
            "120/120 [==============================] - 0s 217us/step - loss: 0.8514 - acc: 0.8083\n",
            "Epoch 29/100\n",
            "120/120 [==============================] - 0s 234us/step - loss: 0.8447 - acc: 0.8000\n",
            "Epoch 30/100\n",
            "120/120 [==============================] - 0s 216us/step - loss: 0.8379 - acc: 0.7917\n",
            "Epoch 31/100\n",
            "120/120 [==============================] - 0s 249us/step - loss: 0.8297 - acc: 0.7750\n",
            "Epoch 32/100\n",
            "120/120 [==============================] - 0s 235us/step - loss: 0.8226 - acc: 0.8000\n",
            "Epoch 33/100\n",
            "120/120 [==============================] - 0s 228us/step - loss: 0.8170 - acc: 0.7917\n",
            "Epoch 34/100\n",
            "120/120 [==============================] - 0s 225us/step - loss: 0.8099 - acc: 0.8083\n",
            "Epoch 35/100\n",
            "120/120 [==============================] - 0s 223us/step - loss: 0.8028 - acc: 0.8167\n",
            "Epoch 36/100\n",
            "120/120 [==============================] - 0s 252us/step - loss: 0.7962 - acc: 0.8167\n",
            "Epoch 37/100\n",
            "120/120 [==============================] - 0s 284us/step - loss: 0.7891 - acc: 0.8083\n",
            "Epoch 38/100\n",
            "120/120 [==============================] - 0s 246us/step - loss: 0.7821 - acc: 0.7917\n",
            "Epoch 39/100\n",
            "120/120 [==============================] - 0s 238us/step - loss: 0.7750 - acc: 0.7833\n",
            "Epoch 40/100\n",
            "120/120 [==============================] - 0s 247us/step - loss: 0.7674 - acc: 0.7917\n",
            "Epoch 41/100\n",
            "120/120 [==============================] - 0s 242us/step - loss: 0.7600 - acc: 0.7917\n",
            "Epoch 42/100\n",
            "120/120 [==============================] - 0s 262us/step - loss: 0.7522 - acc: 0.7917\n",
            "Epoch 43/100\n",
            "120/120 [==============================] - 0s 245us/step - loss: 0.7443 - acc: 0.7917\n",
            "Epoch 44/100\n",
            "120/120 [==============================] - 0s 239us/step - loss: 0.7367 - acc: 0.7917\n",
            "Epoch 45/100\n",
            "120/120 [==============================] - 0s 235us/step - loss: 0.7290 - acc: 0.8000\n",
            "Epoch 46/100\n",
            "120/120 [==============================] - 0s 250us/step - loss: 0.7204 - acc: 0.8083\n",
            "Epoch 47/100\n",
            "120/120 [==============================] - 0s 251us/step - loss: 0.7129 - acc: 0.8000\n",
            "Epoch 48/100\n",
            "120/120 [==============================] - 0s 243us/step - loss: 0.7039 - acc: 0.7917\n",
            "Epoch 49/100\n",
            "120/120 [==============================] - 0s 237us/step - loss: 0.6956 - acc: 0.7917\n",
            "Epoch 50/100\n",
            "120/120 [==============================] - 0s 241us/step - loss: 0.6882 - acc: 0.8000\n",
            "Epoch 51/100\n",
            "120/120 [==============================] - 0s 240us/step - loss: 0.6800 - acc: 0.8000\n",
            "Epoch 52/100\n",
            "120/120 [==============================] - 0s 277us/step - loss: 0.6723 - acc: 0.8000\n",
            "Epoch 53/100\n",
            "120/120 [==============================] - 0s 246us/step - loss: 0.6656 - acc: 0.7917\n",
            "Epoch 54/100\n",
            "120/120 [==============================] - 0s 250us/step - loss: 0.6570 - acc: 0.8000\n",
            "Epoch 55/100\n",
            "120/120 [==============================] - 0s 235us/step - loss: 0.6495 - acc: 0.8000\n",
            "Epoch 56/100\n",
            "120/120 [==============================] - 0s 321us/step - loss: 0.6416 - acc: 0.8000\n",
            "Epoch 57/100\n",
            "120/120 [==============================] - 0s 309us/step - loss: 0.6347 - acc: 0.8083\n",
            "Epoch 58/100\n",
            "120/120 [==============================] - 0s 236us/step - loss: 0.6282 - acc: 0.8333\n",
            "Epoch 59/100\n",
            "120/120 [==============================] - 0s 245us/step - loss: 0.6208 - acc: 0.8250\n",
            "Epoch 60/100\n",
            "120/120 [==============================] - 0s 261us/step - loss: 0.6140 - acc: 0.8167\n",
            "Epoch 61/100\n",
            "120/120 [==============================] - 0s 267us/step - loss: 0.6070 - acc: 0.8167\n",
            "Epoch 62/100\n",
            "120/120 [==============================] - 0s 224us/step - loss: 0.6015 - acc: 0.8167\n",
            "Epoch 63/100\n",
            "120/120 [==============================] - 0s 278us/step - loss: 0.5942 - acc: 0.8167\n",
            "Epoch 64/100\n",
            "120/120 [==============================] - 0s 220us/step - loss: 0.5875 - acc: 0.8333\n",
            "Epoch 65/100\n",
            "120/120 [==============================] - 0s 250us/step - loss: 0.5814 - acc: 0.8333\n",
            "Epoch 66/100\n",
            "120/120 [==============================] - 0s 230us/step - loss: 0.5752 - acc: 0.8333\n",
            "Epoch 67/100\n",
            "120/120 [==============================] - 0s 253us/step - loss: 0.5702 - acc: 0.8333\n",
            "Epoch 68/100\n",
            "120/120 [==============================] - 0s 254us/step - loss: 0.5626 - acc: 0.8333\n",
            "Epoch 69/100\n",
            "120/120 [==============================] - 0s 254us/step - loss: 0.5562 - acc: 0.8583\n",
            "Epoch 70/100\n",
            "120/120 [==============================] - 0s 247us/step - loss: 0.5495 - acc: 0.8583\n",
            "Epoch 71/100\n",
            "120/120 [==============================] - 0s 237us/step - loss: 0.5423 - acc: 0.8667\n",
            "Epoch 72/100\n",
            "120/120 [==============================] - 0s 244us/step - loss: 0.5352 - acc: 0.8667\n",
            "Epoch 73/100\n",
            "120/120 [==============================] - 0s 229us/step - loss: 0.5293 - acc: 0.8750\n",
            "Epoch 74/100\n",
            "120/120 [==============================] - 0s 234us/step - loss: 0.5218 - acc: 0.8833\n",
            "Epoch 75/100\n",
            "120/120 [==============================] - 0s 245us/step - loss: 0.5155 - acc: 0.8667\n",
            "Epoch 76/100\n",
            "120/120 [==============================] - 0s 241us/step - loss: 0.5097 - acc: 0.8417\n",
            "Epoch 77/100\n",
            "120/120 [==============================] - 0s 241us/step - loss: 0.5039 - acc: 0.8500\n",
            "Epoch 78/100\n",
            "120/120 [==============================] - 0s 260us/step - loss: 0.4979 - acc: 0.8583\n",
            "Epoch 79/100\n",
            "120/120 [==============================] - 0s 238us/step - loss: 0.4927 - acc: 0.8833\n",
            "Epoch 80/100\n",
            "120/120 [==============================] - 0s 236us/step - loss: 0.4868 - acc: 0.9000\n",
            "Epoch 81/100\n",
            "120/120 [==============================] - 0s 237us/step - loss: 0.4817 - acc: 0.9083\n",
            "Epoch 82/100\n",
            "120/120 [==============================] - 0s 261us/step - loss: 0.4766 - acc: 0.9167\n",
            "Epoch 83/100\n",
            "120/120 [==============================] - 0s 238us/step - loss: 0.4713 - acc: 0.9000\n",
            "Epoch 84/100\n",
            "120/120 [==============================] - 0s 260us/step - loss: 0.4666 - acc: 0.8500\n",
            "Epoch 85/100\n",
            "120/120 [==============================] - 0s 247us/step - loss: 0.4607 - acc: 0.8750\n",
            "Epoch 86/100\n",
            "120/120 [==============================] - 0s 242us/step - loss: 0.4552 - acc: 0.8833\n",
            "Epoch 87/100\n",
            "120/120 [==============================] - 0s 247us/step - loss: 0.4486 - acc: 0.9000\n",
            "Epoch 88/100\n",
            "120/120 [==============================] - 0s 237us/step - loss: 0.4424 - acc: 0.9333\n",
            "Epoch 89/100\n",
            "120/120 [==============================] - 0s 231us/step - loss: 0.4333 - acc: 0.9000\n",
            "Epoch 90/100\n",
            "120/120 [==============================] - 0s 244us/step - loss: 0.4271 - acc: 0.8583\n",
            "Epoch 91/100\n",
            "120/120 [==============================] - 0s 235us/step - loss: 0.4225 - acc: 0.8833\n",
            "Epoch 92/100\n",
            "120/120 [==============================] - 0s 238us/step - loss: 0.4175 - acc: 0.9167\n",
            "Epoch 93/100\n",
            "120/120 [==============================] - 0s 247us/step - loss: 0.4123 - acc: 0.9250\n",
            "Epoch 94/100\n",
            "120/120 [==============================] - 0s 237us/step - loss: 0.4084 - acc: 0.9333\n",
            "Epoch 95/100\n",
            "120/120 [==============================] - 0s 239us/step - loss: 0.4043 - acc: 0.9417\n",
            "Epoch 96/100\n",
            "120/120 [==============================] - 0s 298us/step - loss: 0.4003 - acc: 0.9417\n",
            "Epoch 97/100\n",
            "120/120 [==============================] - 0s 304us/step - loss: 0.3965 - acc: 0.9333\n",
            "Epoch 98/100\n",
            "120/120 [==============================] - 0s 255us/step - loss: 0.3937 - acc: 0.9167\n",
            "Epoch 99/100\n",
            "120/120 [==============================] - 0s 252us/step - loss: 0.3920 - acc: 0.9500\n",
            "Epoch 100/100\n",
            "120/120 [==============================] - 0s 260us/step - loss: 0.3863 - acc: 0.9500\n"
          ],
          "name": "stdout"
        },
        {
          "output_type": "execute_result",
          "data": {
            "text/plain": [
              "<keras.callbacks.History at 0x7f83defee5f8>"
            ]
          },
          "metadata": {
            "tags": []
          },
          "execution_count": 29
        }
      ]
    },
    {
      "metadata": {
        "id": "ju5SFBp60jWM",
        "colab_type": "code",
        "colab": {
          "base_uri": "https://localhost:8080/",
          "height": 50
        },
        "outputId": "704684d4-184f-438f-f94c-56b0903b527e"
      },
      "cell_type": "code",
      "source": [
        "loss, acc = model1.evaluate(X_tr, y_tr)\n",
        "print(loss, acc)"
      ],
      "execution_count": 30,
      "outputs": [
        {
          "output_type": "stream",
          "text": [
            "120/120 [==============================] - 0s 366us/step\n",
            "0.38358591397603353 0.9416666626930237\n"
          ],
          "name": "stdout"
        }
      ]
    },
    {
      "metadata": {
        "id": "qQIzbTiH4bt3",
        "colab_type": "code",
        "colab": {
          "base_uri": "https://localhost:8080/",
          "height": 50
        },
        "outputId": "3149cf02-8d42-433a-c9ca-b1c56b130c89"
      },
      "cell_type": "code",
      "source": [
        "loss, acc = model1.evaluate(X_te, y_te)\n",
        "print(loss, acc)"
      ],
      "execution_count": 31,
      "outputs": [
        {
          "output_type": "stream",
          "text": [
            "\r30/30 [==============================] - 0s 237us/step\n",
            "0.3887571096420288 1.0\n"
          ],
          "name": "stdout"
        }
      ]
    },
    {
      "metadata": {
        "id": "imtgMcrk4lJJ",
        "colab_type": "code",
        "colab": {}
      },
      "cell_type": "code",
      "source": [
        ""
      ],
      "execution_count": 0,
      "outputs": []
    }
  ]
}