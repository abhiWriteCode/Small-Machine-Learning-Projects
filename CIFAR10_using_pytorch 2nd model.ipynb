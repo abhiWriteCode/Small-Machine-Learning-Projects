{
  "nbformat": 4,
  "nbformat_minor": 0,
  "metadata": {
    "colab": {
      "name": "CIFAR10 using pytorch.ipynb",
      "version": "0.3.2",
      "provenance": [],
      "collapsed_sections": [],
      "include_colab_link": true
    },
    "kernelspec": {
      "name": "python3",
      "display_name": "Python 3"
    },
    "accelerator": "GPU"
  },
  "cells": [
    {
      "cell_type": "markdown",
      "metadata": {
        "id": "view-in-github",
        "colab_type": "text"
      },
      "source": [
        "<a href=\"https://colab.research.google.com/github/abhiWriteCode/Small-Machine-Learning-Projects/blob/master/CIFAR10_using_pytorch%202nd%20model.ipynb\" target=\"_parent\"><img src=\"https://colab.research.google.com/assets/colab-badge.svg\" alt=\"Open In Colab\"/></a>"
      ]
    },
    {
      "metadata": {
        "id": "bWRaivXwHw3O",
        "colab_type": "code",
        "colab": {}
      },
      "cell_type": "code",
      "source": [
        "!pip3 install 'torch==0.4.0'\n",
        "!pip3 install 'torchvision==0.2.1'\n",
        "!pip3 install --no-cache-dir -I 'pillow==5.1.0'\n",
        "!pip install torchsummary\n",
        "\n",
        "\n",
        "# Restart Kernel\n",
        "# This workaround is needed to properly upgrade PIL on Google Colab.\n",
        "import os\n",
        "os._exit(00)"
      ],
      "execution_count": 0,
      "outputs": []
    },
    {
      "metadata": {
        "id": "Z2pBBDinHolC",
        "colab_type": "code",
        "colab": {}
      },
      "cell_type": "code",
      "source": [
        "import numpy as np\n",
        "import matplotlib.pyplot as plt\n",
        "\n",
        "import torch\n",
        "import torchvision\n",
        "from torchvision import datasets, transforms\n",
        "%matplotlib inline"
      ],
      "execution_count": 0,
      "outputs": []
    },
    {
      "metadata": {
        "id": "JZ9hTxelHolK",
        "colab_type": "code",
        "outputId": "f752009e-224e-4ede-9177-2ebe8d1a7dbd",
        "colab": {
          "base_uri": "https://localhost:8080/",
          "height": 50
        }
      },
      "cell_type": "code",
      "source": [
        "mean, std = (0.5, 0.5, 0.5), (0.5, 0.5, 0.5)\n",
        "batch_size = 8\n",
        "\n",
        "transform_train = transforms.Compose([transforms.RandomHorizontalFlip(),\n",
        "                                      transforms.ToTensor(),\n",
        "                                      transforms.Normalize(mean, std)])\n",
        "\n",
        "trainset = datasets.CIFAR10(root='./data', train=True, download=True, transform=transform_train)\n",
        "trainloader = torch.utils.data.DataLoader(trainset, batch_size=batch_size,\n",
        "                                          shuffle=True, num_workers=2)\n",
        "\n",
        "\n",
        "transform_test = transforms.Compose([transforms.ToTensor(), \n",
        "                                     transforms.Normalize(mean, std)])\n",
        "\n",
        "testset = datasets.CIFAR10(root='./data', train=False, download=True, transform=transform_test)\n",
        "testloader = torch.utils.data.DataLoader(testset, batch_size=batch_size,\n",
        "                                         shuffle=False, num_workers=2)\n",
        "\n",
        "classes = ('plane', 'car', 'bird', 'cat', 'deer', 'dog', 'frog', 'horse', 'ship', 'truck')"
      ],
      "execution_count": 2,
      "outputs": [
        {
          "output_type": "stream",
          "text": [
            "Files already downloaded and verified\n",
            "Files already downloaded and verified\n"
          ],
          "name": "stdout"
        }
      ]
    },
    {
      "metadata": {
        "id": "-d4a7KmtHolT",
        "colab_type": "code",
        "colab": {}
      },
      "cell_type": "code",
      "source": [
        "# get some random training images\n",
        "dataiter = iter(trainloader)\n",
        "images, labels = dataiter.next()\n",
        "\n",
        "def imshow(img):\n",
        "    img = img / 2 + 0.5     # unnormalize\n",
        "    img = img.numpy()\n",
        "    plt.imshow(img.transpose((1, 2, 0)))\n",
        "    plt.show()"
      ],
      "execution_count": 0,
      "outputs": []
    },
    {
      "metadata": {
        "id": "kT6_vgXWHolX",
        "colab_type": "code",
        "outputId": "efaf9584-b74c-4ae8-f834-70e6b1eb6f68",
        "colab": {
          "base_uri": "https://localhost:8080/",
          "height": 212
        }
      },
      "cell_type": "code",
      "source": [
        "# show images\n",
        "plt.figure(figsize=(20,6))\n",
        "imshow(torchvision.utils.make_grid(images))\n",
        "# print labels\n",
        "print(' '.join('%5s' % classes[labels[j]] for j in range(batch_size)))"
      ],
      "execution_count": 4,
      "outputs": [
        {
          "output_type": "display_data",
          "data": {
            "image/png": "[encoded data removed]",
            "text/plain": [
              "<matplotlib.figure.Figure at 0x7fa45fdc1e48>"
            ]
          },
          "metadata": {
            "tags": []
          }
        },
        {
          "output_type": "stream",
          "text": [
            "  cat  deer   car truck truck truck horse  deer\n"
          ],
          "name": "stdout"
        }
      ]
    },
    {
      "metadata": {
        "id": "03EkJeFyG2I5",
        "colab_type": "code",
        "colab": {}
      },
      "cell_type": "code",
      "source": [
        "import torch.nn as nn\n",
        "import torch.nn.functional  as F\n",
        "\n",
        "class Network2(nn.Module):\n",
        "    def __init__(self):\n",
        "        super().__init__()\n",
        "        self.conv1 = nn.Conv2d(3, 6, 5)\n",
        "        self.pool = nn.MaxPool2d(2, 2)\n",
        "        self.conv2 = nn.Conv2d(6, 16, 5)\n",
        "        self.fc1 = nn.Linear(16 * 5 * 5, 120)\n",
        "        self.fc2 = nn.Linear(120, 84)\n",
        "        self.fc3 = nn.Linear(84, 10)\n",
        "        self.dropout = nn.Dropout(0.2)\n",
        "\n",
        "    def forward(self, x):\n",
        "        x = self.pool(F.relu(self.conv1(x)))\n",
        "        x = self.pool(F.relu(self.conv2(x)))\n",
        "        x = x.view(-1, 16 * 5 * 5)\n",
        "        x = F.relu(self.fc1(x))\n",
        "        x = self.dropout(x)\n",
        "        x = F.relu(self.fc2(x))\n",
        "        x = self.fc3(x)\n",
        "        return x\n",
        "        \n",
        "model = Network2()"
      ],
      "execution_count": 0,
      "outputs": []
    },
    {
      "metadata": {
        "id": "tFH9T9ZAZQ-d",
        "colab_type": "code",
        "outputId": "8562a273-9fa2-4ee3-e6b7-be344306997b",
        "colab": {
          "base_uri": "https://localhost:8080/",
          "height": 33
        }
      },
      "cell_type": "code",
      "source": [
        "images.shape"
      ],
      "execution_count": 6,
      "outputs": [
        {
          "output_type": "execute_result",
          "data": {
            "text/plain": [
              "torch.Size([8, 3, 32, 32])"
            ]
          },
          "metadata": {
            "tags": []
          },
          "execution_count": 6
        }
      ]
    },
    {
      "metadata": {
        "id": "Ba-TVLWTHoli",
        "colab_type": "code",
        "colab": {}
      },
      "cell_type": "code",
      "source": [
        "from torch import optim\n",
        "\n",
        "criterion = nn.CrossEntropyLoss()\n",
        "optimizer = optim.SGD(model.parameters(), lr=0.005)"
      ],
      "execution_count": 0,
      "outputs": []
    },
    {
      "metadata": {
        "id": "q2fWibrGI5mc",
        "colab_type": "code",
        "outputId": "d41ba462-e93d-4142-e642-1bf5182c06db",
        "colab": {
          "base_uri": "https://localhost:8080/",
          "height": 184
        }
      },
      "cell_type": "code",
      "source": [
        "device = torch.device(\"cuda\" if torch.cuda.is_available() else \"cpu\")\n",
        "\n",
        "print(device)\n",
        "\n",
        "model.to(device)"
      ],
      "execution_count": 13,
      "outputs": [
        {
          "output_type": "stream",
          "text": [
            "cuda\n"
          ],
          "name": "stdout"
        },
        {
          "output_type": "execute_result",
          "data": {
            "text/plain": [
              "Network2(\n",
              "  (conv1): Conv2d(3, 6, kernel_size=(5, 5), stride=(1, 1))\n",
              "  (pool): MaxPool2d(kernel_size=2, stride=2, padding=0, dilation=1, ceil_mode=False)\n",
              "  (conv2): Conv2d(6, 16, kernel_size=(5, 5), stride=(1, 1))\n",
              "  (fc1): Linear(in_features=400, out_features=120, bias=True)\n",
              "  (fc2): Linear(in_features=120, out_features=84, bias=True)\n",
              "  (fc3): Linear(in_features=84, out_features=10, bias=True)\n",
              "  (dropout): Dropout(p=0.2)\n",
              ")"
            ]
          },
          "metadata": {
            "tags": []
          },
          "execution_count": 13
        }
      ]
    },
    {
      "metadata": {
        "id": "O4s2S2ihcJB5",
        "colab_type": "code",
        "outputId": "73f137d8-8351-49cc-e629-90a159204f2c",
        "colab": {
          "base_uri": "https://localhost:8080/",
          "height": 368
        }
      },
      "cell_type": "code",
      "source": [
        "from torchsummary import summary\n",
        "\n",
        "summary(model, (3, 32, 32))"
      ],
      "execution_count": 14,
      "outputs": [
        {
          "output_type": "stream",
          "text": [
            "----------------------------------------------------------------\n",
            "        Layer (type)               Output Shape         Param #\n",
            "================================================================\n",
            "            Conv2d-1            [-1, 6, 28, 28]             456\n",
            "         MaxPool2d-2            [-1, 6, 14, 14]               0\n",
            "            Conv2d-3           [-1, 16, 10, 10]           2,416\n",
            "         MaxPool2d-4             [-1, 16, 5, 5]               0\n",
            "            Linear-5                  [-1, 120]          48,120\n",
            "           Dropout-6                  [-1, 120]               0\n",
            "            Linear-7                   [-1, 84]          10,164\n",
            "            Linear-8                   [-1, 10]             850\n",
            "================================================================\n",
            "Total params: 62,006\n",
            "Trainable params: 62,006\n",
            "Non-trainable params: 0\n",
            "----------------------------------------------------------------\n",
            "Input size (MB): 0.01\n",
            "Forward/backward pass size (MB): 0.06\n",
            "Params size (MB): 0.24\n",
            "Estimated Total Size (MB): 0.31\n",
            "----------------------------------------------------------------\n"
          ],
          "name": "stdout"
        }
      ]
    },
    {
      "metadata": {
        "id": "_kN-ao8Z_tcA",
        "colab_type": "code",
        "outputId": "b5e459bc-da32-41c9-cf07-03eb7419ba1b",
        "colab": {
          "base_uri": "https://localhost:8080/",
          "height": 167
        }
      },
      "cell_type": "code",
      "source": [
        "model.fc1.weight"
      ],
      "execution_count": 0,
      "outputs": [
        {
          "output_type": "execute_result",
          "data": {
            "text/plain": [
              "Parameter containing:\n",
              "tensor(1.00000e-02 *\n",
              "       [[-3.9326, -1.1735,  4.4007,  ..., -2.3170, -0.3754, -0.0118],\n",
              "        [-0.9681, -2.6195,  1.5723,  ..., -0.9056,  1.5288,  3.1502],\n",
              "        [ 4.6651, -2.5402,  3.8858,  ...,  0.1611,  0.7448,  0.3176],\n",
              "        ...,\n",
              "        [ 0.0865, -1.0139, -3.8900,  ...,  3.1020, -3.1133, -0.9085],\n",
              "        [ 4.7380,  3.2803, -2.2408,  ...,  2.3402,  4.8325, -4.8477],\n",
              "        [-4.4386,  2.5954,  1.9988,  ...,  1.3450, -2.6530, -1.1141]], device='cuda:0')"
            ]
          },
          "metadata": {
            "tags": []
          },
          "execution_count": 34
        }
      ]
    },
    {
      "metadata": {
        "id": "JtIlJjNlHolm",
        "colab_type": "code",
        "colab": {}
      },
      "cell_type": "code",
      "source": [
        "def train(epochs=20):\n",
        "  print('Training started')\n",
        "  train_losses, test_losses = [], []\n",
        "    \n",
        "  for e in range(epochs):\n",
        "    running_loss = 0\n",
        "    \n",
        "    for images, labels in trainloader:\n",
        "\n",
        "      images, labels = images.to(device), labels.to(device)\n",
        "\n",
        "      optimizer.zero_grad()\n",
        "\n",
        "      ps = model(images)\n",
        "      train_loss = criterion(ps, labels)\n",
        "      train_loss.backward()\n",
        "      optimizer.step()\n",
        "\n",
        "      running_loss += train_loss.item()\n",
        "\n",
        "    else:\n",
        "      test_loss = 0\n",
        "      correctly_predicted = 0\n",
        "      total = 0\n",
        "\n",
        "      # Turn off gradients for validation, saves memory and computations\n",
        "      with torch.no_grad():\n",
        "        model.eval()\n",
        "        for images, labels in testloader:\n",
        "          \n",
        "          images, labels = images.to(device), labels.to(device)\n",
        "            \n",
        "          ps = model(images)\n",
        "          test_loss += criterion(ps, labels).item()\n",
        "          _, predicted = torch.max(ps.data, 1)\n",
        "          total += labels.size(0)\n",
        "          correctly_predicted += (predicted == labels).sum().item()\n",
        "\n",
        "      model.train()\n",
        "\n",
        "      train_losses.append(running_loss/len(trainloader))\n",
        "      test_losses.append(test_loss/len(testloader))\n",
        "\n",
        "      print(\"Epoch: {}/{}.. \".format(e+1, epochs),\n",
        "            \"Training Loss: {:.3f}.. \".format(running_loss/len(trainloader)),\n",
        "            \"Test Loss: {:.3f}.. \".format(test_loss/len(testloader)),\n",
        "            \"Test Accuracy: {:.3f}\".format(correctly_predicted/total))\n",
        "      \n",
        "  print('Finished training')\n",
        "  return train_losses, test_losses"
      ],
      "execution_count": 0,
      "outputs": []
    },
    {
      "metadata": {
        "id": "lMw-TgyQHolp",
        "colab_type": "code",
        "outputId": "63550bdf-dc8f-4ba1-b8ea-5ebc68f6c8a1",
        "colab": {
          "base_uri": "https://localhost:8080/",
          "height": 418
        }
      },
      "cell_type": "code",
      "source": [
        "%%time\n",
        "train_losses, test_losses = train(epochs=20)"
      ],
      "execution_count": 16,
      "outputs": [
        {
          "output_type": "stream",
          "text": [
            "Training started\n",
            "Epoch: 1/20..  Training Loss: 2.059..  Test Loss: 1.699..  Test Accuracy: 0.378\n",
            "Epoch: 2/20..  Training Loss: 1.604..  Test Loss: 1.472..  Test Accuracy: 0.457\n",
            "Epoch: 3/20..  Training Loss: 1.462..  Test Loss: 1.377..  Test Accuracy: 0.502\n",
            "Epoch: 4/20..  Training Loss: 1.373..  Test Loss: 1.310..  Test Accuracy: 0.522\n",
            "Epoch: 5/20..  Training Loss: 1.306..  Test Loss: 1.252..  Test Accuracy: 0.548\n",
            "Epoch: 6/20..  Training Loss: 1.247..  Test Loss: 1.202..  Test Accuracy: 0.561\n",
            "Epoch: 7/20..  Training Loss: 1.206..  Test Loss: 1.162..  Test Accuracy: 0.588\n",
            "Epoch: 8/20..  Training Loss: 1.164..  Test Loss: 1.135..  Test Accuracy: 0.599\n",
            "Epoch: 9/20..  Training Loss: 1.128..  Test Loss: 1.097..  Test Accuracy: 0.619\n",
            "Epoch: 10/20..  Training Loss: 1.100..  Test Loss: 1.064..  Test Accuracy: 0.622\n",
            "Epoch: 11/20..  Training Loss: 1.069..  Test Loss: 1.049..  Test Accuracy: 0.629\n",
            "Epoch: 12/20..  Training Loss: 1.044..  Test Loss: 1.014..  Test Accuracy: 0.638\n",
            "Epoch: 13/20..  Training Loss: 1.024..  Test Loss: 1.018..  Test Accuracy: 0.642\n",
            "Epoch: 14/20..  Training Loss: 1.008..  Test Loss: 0.992..  Test Accuracy: 0.654\n",
            "Epoch: 15/20..  Training Loss: 0.987..  Test Loss: 0.983..  Test Accuracy: 0.656\n",
            "Epoch: 16/20..  Training Loss: 0.972..  Test Loss: 1.015..  Test Accuracy: 0.642\n",
            "Epoch: 17/20..  Training Loss: 0.958..  Test Loss: 0.994..  Test Accuracy: 0.651\n",
            "Epoch: 18/20..  Training Loss: 0.945..  Test Loss: 0.976..  Test Accuracy: 0.656\n",
            "Epoch: 19/20..  Training Loss: 0.930..  Test Loss: 0.964..  Test Accuracy: 0.661\n",
            "Epoch: 20/20..  Training Loss: 0.916..  Test Loss: 0.953..  Test Accuracy: 0.668\n",
            "Finished training\n",
            "CPU times: user 11min 39s, sys: 3min 8s, total: 14min 48s\n",
            "Wall time: 16min\n"
          ],
          "name": "stdout"
        }
      ]
    },
    {
      "metadata": {
        "id": "V6lgG7KiHolv",
        "colab_type": "code",
        "outputId": "469af105-306b-4fe1-879d-cb6f7867f96d",
        "colab": {
          "base_uri": "https://localhost:8080/",
          "height": 265
        }
      },
      "cell_type": "code",
      "source": [
        "plt.plot(train_losses, label='Training loss')\n",
        "plt.plot(test_losses, label='Validation loss')\n",
        "plt.legend(frameon=False)\n",
        "\n",
        "plt.show()"
      ],
      "execution_count": 17,
      "outputs": [
        {
          "output_type": "display_data",
          "data": {
            "image/png": "[encoded data removed]",
            "text/plain": [
              "<matplotlib.figure.Figure at 0x7fa45fd4d080>"
            ]
          },
          "metadata": {
            "tags": []
          }
        }
      ]
    },
    {
      "metadata": {
        "id": "B6l74frjhHYU",
        "colab_type": "code",
        "colab": {}
      },
      "cell_type": "code",
      "source": [
        ""
      ],
      "execution_count": 0,
      "outputs": []
    }
  ]
}