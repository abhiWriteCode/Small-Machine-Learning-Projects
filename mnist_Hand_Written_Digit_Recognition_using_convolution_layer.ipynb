{
  "nbformat": 4,
  "nbformat_minor": 0,
  "metadata": {
    "colab": {
      "name": "mnist Hand Written Digit Recognition using convolution layer.ipynb",
      "version": "0.3.2",
      "provenance": [],
      "collapsed_sections": [],
      "include_colab_link": true
    },
    "kernelspec": {
      "name": "python3",
      "display_name": "Python 3"
    }
  },
  "cells": [
    {
      "cell_type": "markdown",
      "metadata": {
        "id": "view-in-github",
        "colab_type": "text"
      },
      "source": [
        "<a href=\"https://colab.research.google.com/github/abhiWriteCode/Small-Machine-Learning-Projects/blob/master/mnist_Hand_Written_Digit_Recognition_using_convolution_layer.ipynb\" target=\"_parent\"><img src=\"https://colab.research.google.com/assets/colab-badge.svg\" alt=\"Open In Colab\"/></a>"
      ]
    },
    {
      "metadata": {
        "id": "uCll_OjB3Amb",
        "colab_type": "code",
        "colab": {
          "base_uri": "https://localhost:8080/",
          "height": 33
        },
        "outputId": "67caee14-dad2-4ae2-c2e2-46bfdcc9c386"
      },
      "cell_type": "code",
      "source": [
        "import numpy as np\n",
        "import matplotlib.pyplot as plt\n",
        "\n",
        "import tensorflow as tf\n",
        "import keras\n",
        "from keras import Sequential\n",
        "from keras.layers import Dense, Flatten, Conv2D, MaxPooling2D\n",
        "\n",
        "%matplotlib inline"
      ],
      "execution_count": 1,
      "outputs": [
        {
          "output_type": "stream",
          "text": [
            "Using TensorFlow backend.\n"
          ],
          "name": "stderr"
        }
      ]
    },
    {
      "metadata": {
        "id": "TCDPkTvE4odI",
        "colab_type": "code",
        "colab": {
          "base_uri": "https://localhost:8080/",
          "height": 50
        },
        "outputId": "e28e433a-5432-48af-8937-6f031aeec3e4"
      },
      "cell_type": "code",
      "source": [
        "(train_X, train_y), (test_X, test_y) = keras.datasets.mnist.load_data()"
      ],
      "execution_count": 2,
      "outputs": [
        {
          "output_type": "stream",
          "text": [
            "Downloading data from https://s3.amazonaws.com/img-datasets/mnist.npz\n",
            "11493376/11490434 [==============================] - 1s 0us/step\n"
          ],
          "name": "stdout"
        }
      ]
    },
    {
      "metadata": {
        "id": "9XKgyK-LxKCj",
        "colab_type": "code",
        "colab": {}
      },
      "cell_type": "code",
      "source": [
        "train_X = (train_X/255.0).reshape(*train_X.shape, 1)\n",
        "test_X = (test_X/255.0).reshape(*test_X.shape, 1)"
      ],
      "execution_count": 0,
      "outputs": []
    },
    {
      "metadata": {
        "id": "2yabmq7T5Mbh",
        "colab_type": "code",
        "outputId": "c99c263f-391d-46b8-fc43-ace871c3f979",
        "colab": {
          "base_uri": "https://localhost:8080/",
          "height": 50
        }
      },
      "cell_type": "code",
      "source": [
        "print(train_X.shape)\n",
        "print(test_X.shape)"
      ],
      "execution_count": 4,
      "outputs": [
        {
          "output_type": "stream",
          "text": [
            "(60000, 28, 28, 1)\n",
            "(10000, 28, 28, 1)\n"
          ],
          "name": "stdout"
        }
      ]
    },
    {
      "metadata": {
        "id": "nBD1K3u-CBXY",
        "colab_type": "code",
        "colab": {}
      },
      "cell_type": "code",
      "source": [
        "split = len(test_X)//2\n",
        "val_X, val_y = test_X[:split], test_y[:split]\n",
        "test_X, test_y = test_X[split:], test_y[split:]"
      ],
      "execution_count": 0,
      "outputs": []
    },
    {
      "metadata": {
        "id": "mfaxuGhR59EJ",
        "colab_type": "text"
      },
      "cell_type": "markdown",
      "source": [
        "** Create Model **"
      ]
    },
    {
      "metadata": {
        "id": "5mqzEGZ26DQn",
        "colab_type": "code",
        "colab": {
          "base_uri": "https://localhost:8080/",
          "height": 368
        },
        "outputId": "0cc9f3be-bd1a-46b5-d827-4f0ac7c3b3f5"
      },
      "cell_type": "code",
      "source": [
        "model = Sequential()\n",
        "\n",
        "model.add(Conv2D(filters=10, kernel_size=(3, 3), input_shape=(28, 28, 1), activation = 'relu'))\n",
        "model.add(MaxPooling2D(pool_size=(2, 2)))\n",
        "\n",
        "model.add(Conv2D(filters=20, kernel_size=(1, 1), activation = 'relu'))\n",
        "model.add(MaxPooling2D(pool_size=(2, 2)))\n",
        "\n",
        "model.add(Flatten())\n",
        "model.add(Dense(activation = 'relu', units = 80))\n",
        "model.add(Dense(activation = 'softmax', units = 10))\n",
        "\n",
        "model.compile(loss='sparse_categorical_crossentropy', optimizer='rmsprop', metrics=['accuracy'])\n",
        "model.summary()"
      ],
      "execution_count": 6,
      "outputs": [
        {
          "output_type": "stream",
          "text": [
            "_________________________________________________________________\n",
            "Layer (type)                 Output Shape              Param #   \n",
            "=================================================================\n",
            "conv2d_1 (Conv2D)            (None, 26, 26, 10)        100       \n",
            "_________________________________________________________________\n",
            "max_pooling2d_1 (MaxPooling2 (None, 13, 13, 10)        0         \n",
            "_________________________________________________________________\n",
            "conv2d_2 (Conv2D)            (None, 13, 13, 20)        220       \n",
            "_________________________________________________________________\n",
            "max_pooling2d_2 (MaxPooling2 (None, 6, 6, 20)          0         \n",
            "_________________________________________________________________\n",
            "flatten_1 (Flatten)          (None, 720)               0         \n",
            "_________________________________________________________________\n",
            "dense_1 (Dense)              (None, 80)                57680     \n",
            "_________________________________________________________________\n",
            "dense_2 (Dense)              (None, 10)                810       \n",
            "=================================================================\n",
            "Total params: 58,810\n",
            "Trainable params: 58,810\n",
            "Non-trainable params: 0\n",
            "_________________________________________________________________\n"
          ],
          "name": "stdout"
        }
      ]
    },
    {
      "metadata": {
        "id": "TXpoSYPg9EMQ",
        "colab_type": "code",
        "colab": {
          "base_uri": "https://localhost:8080/",
          "height": 719
        },
        "outputId": "d10e6ab6-3858-4b31-d96a-cd9e8ef672d8"
      },
      "cell_type": "code",
      "source": [
        "model.fit(train_X, train_y, epochs=20, batch_size=256, validation_data=(val_X, val_y))"
      ],
      "execution_count": 7,
      "outputs": [
        {
          "output_type": "stream",
          "text": [
            "Train on 60000 samples, validate on 5000 samples\n",
            "Epoch 1/20\n",
            "60000/60000 [==============================] - 21s 349us/step - loss: 0.5317 - acc: 0.8598 - val_loss: 0.2816 - val_acc: 0.9176\n",
            "Epoch 2/20\n",
            "60000/60000 [==============================] - 20s 339us/step - loss: 0.1649 - acc: 0.9508 - val_loss: 0.1825 - val_acc: 0.9396\n",
            "Epoch 3/20\n",
            "60000/60000 [==============================] - 20s 340us/step - loss: 0.1159 - acc: 0.9652 - val_loss: 0.1260 - val_acc: 0.9606\n",
            "Epoch 4/20\n",
            "60000/60000 [==============================] - 20s 339us/step - loss: 0.0922 - acc: 0.9721 - val_loss: 0.1176 - val_acc: 0.9616\n",
            "Epoch 5/20\n",
            "60000/60000 [==============================] - 20s 339us/step - loss: 0.0776 - acc: 0.9766 - val_loss: 0.0871 - val_acc: 0.9712\n",
            "Epoch 6/20\n",
            "60000/60000 [==============================] - 20s 339us/step - loss: 0.0670 - acc: 0.9797 - val_loss: 0.0778 - val_acc: 0.9726\n",
            "Epoch 7/20\n",
            "60000/60000 [==============================] - 20s 339us/step - loss: 0.0582 - acc: 0.9820 - val_loss: 0.0902 - val_acc: 0.9670\n",
            "Epoch 8/20\n",
            "60000/60000 [==============================] - 21s 343us/step - loss: 0.0523 - acc: 0.9838 - val_loss: 0.0911 - val_acc: 0.9666\n",
            "Epoch 9/20\n",
            "60000/60000 [==============================] - 21s 342us/step - loss: 0.0462 - acc: 0.9859 - val_loss: 0.0661 - val_acc: 0.9762\n",
            "Epoch 10/20\n",
            "60000/60000 [==============================] - 21s 342us/step - loss: 0.0418 - acc: 0.9872 - val_loss: 0.1000 - val_acc: 0.9668\n",
            "Epoch 11/20\n",
            "60000/60000 [==============================] - 21s 342us/step - loss: 0.0381 - acc: 0.9881 - val_loss: 0.0591 - val_acc: 0.9792\n",
            "Epoch 12/20\n",
            "60000/60000 [==============================] - 21s 343us/step - loss: 0.0354 - acc: 0.9888 - val_loss: 0.0687 - val_acc: 0.9764\n",
            "Epoch 13/20\n",
            "60000/60000 [==============================] - 20s 341us/step - loss: 0.0316 - acc: 0.9901 - val_loss: 0.0643 - val_acc: 0.9774\n",
            "Epoch 14/20\n",
            "60000/60000 [==============================] - 21s 345us/step - loss: 0.0293 - acc: 0.9913 - val_loss: 0.0587 - val_acc: 0.9798\n",
            "Epoch 15/20\n",
            "60000/60000 [==============================] - 21s 344us/step - loss: 0.0279 - acc: 0.9910 - val_loss: 0.0595 - val_acc: 0.9794\n",
            "Epoch 16/20\n",
            "60000/60000 [==============================] - 21s 342us/step - loss: 0.0247 - acc: 0.9924 - val_loss: 0.0611 - val_acc: 0.9794\n",
            "Epoch 17/20\n",
            "60000/60000 [==============================] - 20s 341us/step - loss: 0.0229 - acc: 0.9930 - val_loss: 0.0761 - val_acc: 0.9728\n",
            "Epoch 18/20\n",
            "60000/60000 [==============================] - 20s 341us/step - loss: 0.0207 - acc: 0.9938 - val_loss: 0.0643 - val_acc: 0.9786\n",
            "Epoch 19/20\n",
            "60000/60000 [==============================] - 20s 341us/step - loss: 0.0190 - acc: 0.9941 - val_loss: 0.0576 - val_acc: 0.9812\n",
            "Epoch 20/20\n",
            "60000/60000 [==============================] - 21s 342us/step - loss: 0.0172 - acc: 0.9948 - val_loss: 0.0652 - val_acc: 0.9788\n"
          ],
          "name": "stdout"
        },
        {
          "output_type": "execute_result",
          "data": {
            "text/plain": [
              "<keras.callbacks.History at 0x7fa201e835c0>"
            ]
          },
          "metadata": {
            "tags": []
          },
          "execution_count": 7
        }
      ]
    },
    {
      "metadata": {
        "id": "ahSAEe4PFQeH",
        "colab_type": "code",
        "colab": {
          "base_uri": "https://localhost:8080/",
          "height": 67
        },
        "outputId": "639d2a66-9f7c-42d5-b93d-0123dfd0c7d1"
      },
      "cell_type": "code",
      "source": [
        "loss, acc = model.evaluate(test_X, test_y)\n",
        "\n",
        "print('loss: ', loss)\n",
        "print('Accuracy: ', acc)"
      ],
      "execution_count": 8,
      "outputs": [
        {
          "output_type": "stream",
          "text": [
            "5000/5000 [==============================] - 1s 226us/step\n",
            "loss:  0.02317217102535651\n",
            "Accuracy:  0.993\n"
          ],
          "name": "stdout"
        }
      ]
    },
    {
      "metadata": {
        "id": "6jVSPQD_9v8Q",
        "colab_type": "code",
        "colab": {}
      },
      "cell_type": "code",
      "source": [
        "predict_y = model.predict(test_X)"
      ],
      "execution_count": 0,
      "outputs": []
    },
    {
      "metadata": {
        "id": "nAXNKfTADUlh",
        "colab_type": "code",
        "colab": {
          "base_uri": "https://localhost:8080/",
          "height": 157
        },
        "outputId": "98a06ddc-bcb5-4f3d-fddd-5ff523cfa575"
      },
      "cell_type": "code",
      "source": [
        "plt.figure(figsize=(20, 6))\n",
        "\n",
        "n = 10\n",
        "for i in range(n):\n",
        "  plt.subplot(1, n, i+1)\n",
        "  plt.imshow(test_X[i].reshape(28, 28))\n",
        "  plt.title(np.argmax(predict_y[i]))\n",
        "  plt.axis('off')"
      ],
      "execution_count": 10,
      "outputs": [
        {
          "output_type": "display_data",
          "data": {
            "image/png": "[encoded data removed]",
            "text/plain": [
              "<matplotlib.figure.Figure at 0x7fa1f2884da0>"
            ]
          },
          "metadata": {
            "tags": []
          }
        }
      ]
    },
    {
      "metadata": {
        "id": "KEWoDJpIEr1Q",
        "colab_type": "code",
        "colab": {}
      },
      "cell_type": "code",
      "source": [
        ""
      ],
      "execution_count": 0,
      "outputs": []
    }
  ]
}