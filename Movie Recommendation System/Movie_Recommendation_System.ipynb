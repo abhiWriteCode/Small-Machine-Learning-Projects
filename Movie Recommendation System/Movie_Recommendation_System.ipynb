{
  "nbformat": 4,
  "nbformat_minor": 0,
  "metadata": {
    "colab": {
      "name": "Movie_Recommendation_System.ipynb",
      "version": "0.3.2",
      "provenance": [],
      "include_colab_link": true
    },
    "kernelspec": {
      "name": "python3",
      "display_name": "Python 3"
    }
  },
  "cells": [
    {
      "cell_type": "markdown",
      "metadata": {
        "id": "view-in-github",
        "colab_type": "text"
      },
      "source": [
        "[View in Colaboratory](https://colab.research.google.com/github/abhiWriteCode/Small-Machine-Learning-Projects/blob/master/Movie%20Recommendation%20System/Movie_Recommendation_System.ipynb)"
      ]
    },
    {
      "metadata": {
        "id": "_iOe0DYTNk8Z",
        "colab_type": "text"
      },
      "cell_type": "markdown",
      "source": [
        "# Movie Recommendation System"
      ]
    },
    {
      "metadata": {
        "id": "y5-GJXeZN2to",
        "colab_type": "code",
        "colab": {}
      },
      "cell_type": "code",
      "source": [
        ""
      ],
      "execution_count": 0,
      "outputs": []
    }
  ]
}